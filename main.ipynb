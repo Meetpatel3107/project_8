{
 "cells": [
  {
   "cell_type": "code",
   "execution_count": 205,
   "id": "f3eacce1",
   "metadata": {},
   "outputs": [],
   "source": [
    "import pandas as pd \n",
    "import numpy as np\n",
    "import seaborn as sns\n",
    "import matplotlib.pyplot as plt \n",
    "%matplotlib inline"
   ]
  },
  {
   "cell_type": "code",
   "execution_count": 206,
   "id": "3345dcfe",
   "metadata": {},
   "outputs": [
    {
     "data": {
      "text/html": [
       "<div>\n",
       "<style scoped>\n",
       "    .dataframe tbody tr th:only-of-type {\n",
       "        vertical-align: middle;\n",
       "    }\n",
       "\n",
       "    .dataframe tbody tr th {\n",
       "        vertical-align: top;\n",
       "    }\n",
       "\n",
       "    .dataframe thead th {\n",
       "        text-align: right;\n",
       "    }\n",
       "</style>\n",
       "<table border=\"1\" class=\"dataframe\">\n",
       "  <thead>\n",
       "    <tr style=\"text-align: right;\">\n",
       "      <th></th>\n",
       "      <th>title</th>\n",
       "      <th>link</th>\n",
       "      <th>published_date</th>\n",
       "      <th>is_hourly</th>\n",
       "      <th>hourly_low</th>\n",
       "      <th>hourly_high</th>\n",
       "      <th>budget</th>\n",
       "      <th>country</th>\n",
       "    </tr>\n",
       "  </thead>\n",
       "  <tbody>\n",
       "    <tr>\n",
       "      <th>0</th>\n",
       "      <td>Experienced Media Buyer For Solar Pannel and R...</td>\n",
       "      <td>https://www.upwork.com/jobs/Experienced-Media-...</td>\n",
       "      <td>2024-02-17 09:09:54+00:00</td>\n",
       "      <td>False</td>\n",
       "      <td>NaN</td>\n",
       "      <td>NaN</td>\n",
       "      <td>500.0</td>\n",
       "      <td>NaN</td>\n",
       "    </tr>\n",
       "    <tr>\n",
       "      <th>1</th>\n",
       "      <td>Full Stack Developer</td>\n",
       "      <td>https://www.upwork.com/jobs/Full-Stack-Develop...</td>\n",
       "      <td>2024-02-17 09:09:17+00:00</td>\n",
       "      <td>False</td>\n",
       "      <td>NaN</td>\n",
       "      <td>NaN</td>\n",
       "      <td>1100.0</td>\n",
       "      <td>United States</td>\n",
       "    </tr>\n",
       "    <tr>\n",
       "      <th>2</th>\n",
       "      <td>SMMA Bubble App</td>\n",
       "      <td>https://www.upwork.com/jobs/SMMA-Bubble-App_%7...</td>\n",
       "      <td>2024-02-17 09:08:46+00:00</td>\n",
       "      <td>True</td>\n",
       "      <td>10.0</td>\n",
       "      <td>30.0</td>\n",
       "      <td>NaN</td>\n",
       "      <td>United States</td>\n",
       "    </tr>\n",
       "    <tr>\n",
       "      <th>3</th>\n",
       "      <td>Talent Hunter Specialized in Marketing</td>\n",
       "      <td>https://www.upwork.com/jobs/Talent-Hunter-Spec...</td>\n",
       "      <td>2024-02-17 09:08:08+00:00</td>\n",
       "      <td>True</td>\n",
       "      <td>NaN</td>\n",
       "      <td>NaN</td>\n",
       "      <td>NaN</td>\n",
       "      <td>United States</td>\n",
       "    </tr>\n",
       "    <tr>\n",
       "      <th>4</th>\n",
       "      <td>Data Engineer</td>\n",
       "      <td>https://www.upwork.com/jobs/Data-Engineer_%7E0...</td>\n",
       "      <td>2024-02-17 09:07:42+00:00</td>\n",
       "      <td>False</td>\n",
       "      <td>NaN</td>\n",
       "      <td>NaN</td>\n",
       "      <td>650.0</td>\n",
       "      <td>India</td>\n",
       "    </tr>\n",
       "  </tbody>\n",
       "</table>\n",
       "</div>"
      ],
      "text/plain": [
       "                                               title  \\\n",
       "0  Experienced Media Buyer For Solar Pannel and R...   \n",
       "1                               Full Stack Developer   \n",
       "2                                    SMMA Bubble App   \n",
       "3             Talent Hunter Specialized in Marketing   \n",
       "4                                      Data Engineer   \n",
       "\n",
       "                                                link  \\\n",
       "0  https://www.upwork.com/jobs/Experienced-Media-...   \n",
       "1  https://www.upwork.com/jobs/Full-Stack-Develop...   \n",
       "2  https://www.upwork.com/jobs/SMMA-Bubble-App_%7...   \n",
       "3  https://www.upwork.com/jobs/Talent-Hunter-Spec...   \n",
       "4  https://www.upwork.com/jobs/Data-Engineer_%7E0...   \n",
       "\n",
       "              published_date  is_hourly  hourly_low  hourly_high  budget  \\\n",
       "0  2024-02-17 09:09:54+00:00      False         NaN          NaN   500.0   \n",
       "1  2024-02-17 09:09:17+00:00      False         NaN          NaN  1100.0   \n",
       "2  2024-02-17 09:08:46+00:00       True        10.0         30.0     NaN   \n",
       "3  2024-02-17 09:08:08+00:00       True         NaN          NaN     NaN   \n",
       "4  2024-02-17 09:07:42+00:00      False         NaN          NaN   650.0   \n",
       "\n",
       "         country  \n",
       "0            NaN  \n",
       "1  United States  \n",
       "2  United States  \n",
       "3  United States  \n",
       "4          India  "
      ]
     },
     "execution_count": 206,
     "metadata": {},
     "output_type": "execute_result"
    }
   ],
   "source": [
    "df = pd.read_csv(\"/Users/meetpatel/Desktop/project_8/all_upwork_jobs_2024-02-07-2024-03-24.csv\")\n",
    "df.head()"
   ]
  },
  {
   "cell_type": "code",
   "execution_count": 207,
   "id": "29b18bdc",
   "metadata": {},
   "outputs": [
    {
     "data": {
      "text/plain": [
       "(244828, 8)"
      ]
     },
     "execution_count": 207,
     "metadata": {},
     "output_type": "execute_result"
    }
   ],
   "source": [
    "df.shape"
   ]
  },
  {
   "cell_type": "code",
   "execution_count": 208,
   "id": "79d78a92",
   "metadata": {},
   "outputs": [
    {
     "data": {
      "text/plain": [
       "title                  1\n",
       "link                   1\n",
       "published_date         0\n",
       "is_hourly              0\n",
       "hourly_low        142406\n",
       "hourly_high       146053\n",
       "budget            140937\n",
       "country             5077\n",
       "dtype: int64"
      ]
     },
     "execution_count": 208,
     "metadata": {},
     "output_type": "execute_result"
    }
   ],
   "source": [
    "df.isnull().sum()"
   ]
  },
  {
   "cell_type": "code",
   "execution_count": 209,
   "id": "ab981644",
   "metadata": {},
   "outputs": [],
   "source": [
    "df_cleaned = df.dropna(subset=['title', 'link'])"
   ]
  },
  {
   "cell_type": "code",
   "execution_count": 210,
   "id": "ddaa65e6",
   "metadata": {},
   "outputs": [
    {
     "data": {
      "text/plain": [
       "(244827, 8)"
      ]
     },
     "execution_count": 210,
     "metadata": {},
     "output_type": "execute_result"
    }
   ],
   "source": [
    "df_cleaned.shape\n"
   ]
  },
  {
   "cell_type": "markdown",
   "id": "5e7963f2",
   "metadata": {},
   "source": [
    "## converting  to datetime "
   ]
  },
  {
   "cell_type": "code",
   "execution_count": 211,
   "id": "7eceaf04",
   "metadata": {},
   "outputs": [
    {
     "name": "stderr",
     "output_type": "stream",
     "text": [
      "/var/folders/89/88_l7y257kd5mnk20gl6rm5m0000gn/T/ipykernel_5709/1707130979.py:1: SettingWithCopyWarning:\n",
      "\n",
      "\n",
      "A value is trying to be set on a copy of a slice from a DataFrame.\n",
      "Try using .loc[row_indexer,col_indexer] = value instead\n",
      "\n",
      "See the caveats in the documentation: https://pandas.pydata.org/pandas-docs/stable/user_guide/indexing.html#returning-a-view-versus-a-copy\n",
      "\n"
     ]
    }
   ],
   "source": [
    "df_cleaned['published_date'] = pd.to_datetime(df_cleaned['published_date'], errors='coerce')"
   ]
  },
  {
   "cell_type": "code",
   "execution_count": 212,
   "id": "08a73fbe",
   "metadata": {},
   "outputs": [
    {
     "data": {
      "text/html": [
       "<div>\n",
       "<style scoped>\n",
       "    .dataframe tbody tr th:only-of-type {\n",
       "        vertical-align: middle;\n",
       "    }\n",
       "\n",
       "    .dataframe tbody tr th {\n",
       "        vertical-align: top;\n",
       "    }\n",
       "\n",
       "    .dataframe thead th {\n",
       "        text-align: right;\n",
       "    }\n",
       "</style>\n",
       "<table border=\"1\" class=\"dataframe\">\n",
       "  <thead>\n",
       "    <tr style=\"text-align: right;\">\n",
       "      <th></th>\n",
       "      <th>title</th>\n",
       "      <th>link</th>\n",
       "      <th>published_date</th>\n",
       "      <th>is_hourly</th>\n",
       "      <th>hourly_low</th>\n",
       "      <th>hourly_high</th>\n",
       "      <th>budget</th>\n",
       "      <th>country</th>\n",
       "    </tr>\n",
       "  </thead>\n",
       "  <tbody>\n",
       "    <tr>\n",
       "      <th>0</th>\n",
       "      <td>Experienced Media Buyer For Solar Pannel and R...</td>\n",
       "      <td>https://www.upwork.com/jobs/Experienced-Media-...</td>\n",
       "      <td>2024-02-17 09:09:54+00:00</td>\n",
       "      <td>False</td>\n",
       "      <td>NaN</td>\n",
       "      <td>NaN</td>\n",
       "      <td>500.0</td>\n",
       "      <td>NaN</td>\n",
       "    </tr>\n",
       "    <tr>\n",
       "      <th>1</th>\n",
       "      <td>Full Stack Developer</td>\n",
       "      <td>https://www.upwork.com/jobs/Full-Stack-Develop...</td>\n",
       "      <td>2024-02-17 09:09:17+00:00</td>\n",
       "      <td>False</td>\n",
       "      <td>NaN</td>\n",
       "      <td>NaN</td>\n",
       "      <td>1100.0</td>\n",
       "      <td>United States</td>\n",
       "    </tr>\n",
       "    <tr>\n",
       "      <th>2</th>\n",
       "      <td>SMMA Bubble App</td>\n",
       "      <td>https://www.upwork.com/jobs/SMMA-Bubble-App_%7...</td>\n",
       "      <td>2024-02-17 09:08:46+00:00</td>\n",
       "      <td>True</td>\n",
       "      <td>10.0</td>\n",
       "      <td>30.0</td>\n",
       "      <td>NaN</td>\n",
       "      <td>United States</td>\n",
       "    </tr>\n",
       "    <tr>\n",
       "      <th>3</th>\n",
       "      <td>Talent Hunter Specialized in Marketing</td>\n",
       "      <td>https://www.upwork.com/jobs/Talent-Hunter-Spec...</td>\n",
       "      <td>2024-02-17 09:08:08+00:00</td>\n",
       "      <td>True</td>\n",
       "      <td>NaN</td>\n",
       "      <td>NaN</td>\n",
       "      <td>NaN</td>\n",
       "      <td>United States</td>\n",
       "    </tr>\n",
       "    <tr>\n",
       "      <th>4</th>\n",
       "      <td>Data Engineer</td>\n",
       "      <td>https://www.upwork.com/jobs/Data-Engineer_%7E0...</td>\n",
       "      <td>2024-02-17 09:07:42+00:00</td>\n",
       "      <td>False</td>\n",
       "      <td>NaN</td>\n",
       "      <td>NaN</td>\n",
       "      <td>650.0</td>\n",
       "      <td>India</td>\n",
       "    </tr>\n",
       "  </tbody>\n",
       "</table>\n",
       "</div>"
      ],
      "text/plain": [
       "                                               title  \\\n",
       "0  Experienced Media Buyer For Solar Pannel and R...   \n",
       "1                               Full Stack Developer   \n",
       "2                                    SMMA Bubble App   \n",
       "3             Talent Hunter Specialized in Marketing   \n",
       "4                                      Data Engineer   \n",
       "\n",
       "                                                link  \\\n",
       "0  https://www.upwork.com/jobs/Experienced-Media-...   \n",
       "1  https://www.upwork.com/jobs/Full-Stack-Develop...   \n",
       "2  https://www.upwork.com/jobs/SMMA-Bubble-App_%7...   \n",
       "3  https://www.upwork.com/jobs/Talent-Hunter-Spec...   \n",
       "4  https://www.upwork.com/jobs/Data-Engineer_%7E0...   \n",
       "\n",
       "             published_date  is_hourly  hourly_low  hourly_high  budget  \\\n",
       "0 2024-02-17 09:09:54+00:00      False         NaN          NaN   500.0   \n",
       "1 2024-02-17 09:09:17+00:00      False         NaN          NaN  1100.0   \n",
       "2 2024-02-17 09:08:46+00:00       True        10.0         30.0     NaN   \n",
       "3 2024-02-17 09:08:08+00:00       True         NaN          NaN     NaN   \n",
       "4 2024-02-17 09:07:42+00:00      False         NaN          NaN   650.0   \n",
       "\n",
       "         country  \n",
       "0            NaN  \n",
       "1  United States  \n",
       "2  United States  \n",
       "3  United States  \n",
       "4          India  "
      ]
     },
     "execution_count": 212,
     "metadata": {},
     "output_type": "execute_result"
    }
   ],
   "source": [
    "df_cleaned.head()"
   ]
  },
  {
   "cell_type": "code",
   "execution_count": 213,
   "id": "0d17624c",
   "metadata": {},
   "outputs": [
    {
     "name": "stderr",
     "output_type": "stream",
     "text": [
      "/var/folders/89/88_l7y257kd5mnk20gl6rm5m0000gn/T/ipykernel_5709/2884149928.py:1: SettingWithCopyWarning:\n",
      "\n",
      "\n",
      "A value is trying to be set on a copy of a slice from a DataFrame.\n",
      "Try using .loc[row_indexer,col_indexer] = value instead\n",
      "\n",
      "See the caveats in the documentation: https://pandas.pydata.org/pandas-docs/stable/user_guide/indexing.html#returning-a-view-versus-a-copy\n",
      "\n",
      "/var/folders/89/88_l7y257kd5mnk20gl6rm5m0000gn/T/ipykernel_5709/2884149928.py:2: SettingWithCopyWarning:\n",
      "\n",
      "\n",
      "A value is trying to be set on a copy of a slice from a DataFrame.\n",
      "Try using .loc[row_indexer,col_indexer] = value instead\n",
      "\n",
      "See the caveats in the documentation: https://pandas.pydata.org/pandas-docs/stable/user_guide/indexing.html#returning-a-view-versus-a-copy\n",
      "\n",
      "/var/folders/89/88_l7y257kd5mnk20gl6rm5m0000gn/T/ipykernel_5709/2884149928.py:3: SettingWithCopyWarning:\n",
      "\n",
      "\n",
      "A value is trying to be set on a copy of a slice from a DataFrame.\n",
      "Try using .loc[row_indexer,col_indexer] = value instead\n",
      "\n",
      "See the caveats in the documentation: https://pandas.pydata.org/pandas-docs/stable/user_guide/indexing.html#returning-a-view-versus-a-copy\n",
      "\n",
      "/var/folders/89/88_l7y257kd5mnk20gl6rm5m0000gn/T/ipykernel_5709/2884149928.py:4: SettingWithCopyWarning:\n",
      "\n",
      "\n",
      "A value is trying to be set on a copy of a slice from a DataFrame.\n",
      "Try using .loc[row_indexer,col_indexer] = value instead\n",
      "\n",
      "See the caveats in the documentation: https://pandas.pydata.org/pandas-docs/stable/user_guide/indexing.html#returning-a-view-versus-a-copy\n",
      "\n"
     ]
    }
   ],
   "source": [
    "df_cleaned['year'] = df_cleaned['published_date'].dt.year\n",
    "df_cleaned['month'] = df_cleaned['published_date'].dt.month\n",
    "df_cleaned['day'] = df_cleaned['published_date'].dt.day\n",
    "df_cleaned['time'] = df_cleaned['published_date'].dt.time"
   ]
  },
  {
   "cell_type": "code",
   "execution_count": 214,
   "id": "6aa67b23",
   "metadata": {},
   "outputs": [
    {
     "name": "stderr",
     "output_type": "stream",
     "text": [
      "/var/folders/89/88_l7y257kd5mnk20gl6rm5m0000gn/T/ipykernel_5709/551411557.py:1: SettingWithCopyWarning:\n",
      "\n",
      "\n",
      "A value is trying to be set on a copy of a slice from a DataFrame.\n",
      "Try using .loc[row_indexer,col_indexer] = value instead\n",
      "\n",
      "See the caveats in the documentation: https://pandas.pydata.org/pandas-docs/stable/user_guide/indexing.html#returning-a-view-versus-a-copy\n",
      "\n"
     ]
    }
   ],
   "source": [
    "df_cleaned['country'] = df_cleaned['country'].fillna('Unknown')\n"
   ]
  },
  {
   "cell_type": "code",
   "execution_count": 215,
   "id": "a700e0f5",
   "metadata": {},
   "outputs": [
    {
     "data": {
      "text/html": [
       "<div>\n",
       "<style scoped>\n",
       "    .dataframe tbody tr th:only-of-type {\n",
       "        vertical-align: middle;\n",
       "    }\n",
       "\n",
       "    .dataframe tbody tr th {\n",
       "        vertical-align: top;\n",
       "    }\n",
       "\n",
       "    .dataframe thead th {\n",
       "        text-align: right;\n",
       "    }\n",
       "</style>\n",
       "<table border=\"1\" class=\"dataframe\">\n",
       "  <thead>\n",
       "    <tr style=\"text-align: right;\">\n",
       "      <th></th>\n",
       "      <th>title</th>\n",
       "      <th>link</th>\n",
       "      <th>published_date</th>\n",
       "      <th>is_hourly</th>\n",
       "      <th>hourly_low</th>\n",
       "      <th>hourly_high</th>\n",
       "      <th>budget</th>\n",
       "      <th>country</th>\n",
       "      <th>year</th>\n",
       "      <th>month</th>\n",
       "      <th>day</th>\n",
       "      <th>time</th>\n",
       "    </tr>\n",
       "  </thead>\n",
       "  <tbody>\n",
       "    <tr>\n",
       "      <th>0</th>\n",
       "      <td>Experienced Media Buyer For Solar Pannel and R...</td>\n",
       "      <td>https://www.upwork.com/jobs/Experienced-Media-...</td>\n",
       "      <td>2024-02-17 09:09:54+00:00</td>\n",
       "      <td>False</td>\n",
       "      <td>NaN</td>\n",
       "      <td>NaN</td>\n",
       "      <td>500.0</td>\n",
       "      <td>Unknown</td>\n",
       "      <td>2024</td>\n",
       "      <td>2</td>\n",
       "      <td>17</td>\n",
       "      <td>09:09:54</td>\n",
       "    </tr>\n",
       "    <tr>\n",
       "      <th>1</th>\n",
       "      <td>Full Stack Developer</td>\n",
       "      <td>https://www.upwork.com/jobs/Full-Stack-Develop...</td>\n",
       "      <td>2024-02-17 09:09:17+00:00</td>\n",
       "      <td>False</td>\n",
       "      <td>NaN</td>\n",
       "      <td>NaN</td>\n",
       "      <td>1100.0</td>\n",
       "      <td>United States</td>\n",
       "      <td>2024</td>\n",
       "      <td>2</td>\n",
       "      <td>17</td>\n",
       "      <td>09:09:17</td>\n",
       "    </tr>\n",
       "    <tr>\n",
       "      <th>2</th>\n",
       "      <td>SMMA Bubble App</td>\n",
       "      <td>https://www.upwork.com/jobs/SMMA-Bubble-App_%7...</td>\n",
       "      <td>2024-02-17 09:08:46+00:00</td>\n",
       "      <td>True</td>\n",
       "      <td>10.0</td>\n",
       "      <td>30.0</td>\n",
       "      <td>NaN</td>\n",
       "      <td>United States</td>\n",
       "      <td>2024</td>\n",
       "      <td>2</td>\n",
       "      <td>17</td>\n",
       "      <td>09:08:46</td>\n",
       "    </tr>\n",
       "    <tr>\n",
       "      <th>3</th>\n",
       "      <td>Talent Hunter Specialized in Marketing</td>\n",
       "      <td>https://www.upwork.com/jobs/Talent-Hunter-Spec...</td>\n",
       "      <td>2024-02-17 09:08:08+00:00</td>\n",
       "      <td>True</td>\n",
       "      <td>NaN</td>\n",
       "      <td>NaN</td>\n",
       "      <td>NaN</td>\n",
       "      <td>United States</td>\n",
       "      <td>2024</td>\n",
       "      <td>2</td>\n",
       "      <td>17</td>\n",
       "      <td>09:08:08</td>\n",
       "    </tr>\n",
       "    <tr>\n",
       "      <th>4</th>\n",
       "      <td>Data Engineer</td>\n",
       "      <td>https://www.upwork.com/jobs/Data-Engineer_%7E0...</td>\n",
       "      <td>2024-02-17 09:07:42+00:00</td>\n",
       "      <td>False</td>\n",
       "      <td>NaN</td>\n",
       "      <td>NaN</td>\n",
       "      <td>650.0</td>\n",
       "      <td>India</td>\n",
       "      <td>2024</td>\n",
       "      <td>2</td>\n",
       "      <td>17</td>\n",
       "      <td>09:07:42</td>\n",
       "    </tr>\n",
       "    <tr>\n",
       "      <th>...</th>\n",
       "      <td>...</td>\n",
       "      <td>...</td>\n",
       "      <td>...</td>\n",
       "      <td>...</td>\n",
       "      <td>...</td>\n",
       "      <td>...</td>\n",
       "      <td>...</td>\n",
       "      <td>...</td>\n",
       "      <td>...</td>\n",
       "      <td>...</td>\n",
       "      <td>...</td>\n",
       "      <td>...</td>\n",
       "    </tr>\n",
       "    <tr>\n",
       "      <th>244823</th>\n",
       "      <td>Need Facebook advertising experts to launch pr...</td>\n",
       "      <td>https://www.upwork.com/jobs/Need-Facebook-adve...</td>\n",
       "      <td>2024-03-24 13:28:38+00:00</td>\n",
       "      <td>True</td>\n",
       "      <td>20.0</td>\n",
       "      <td>100.0</td>\n",
       "      <td>NaN</td>\n",
       "      <td>Zambia</td>\n",
       "      <td>2024</td>\n",
       "      <td>3</td>\n",
       "      <td>24</td>\n",
       "      <td>13:28:38</td>\n",
       "    </tr>\n",
       "    <tr>\n",
       "      <th>244824</th>\n",
       "      <td>Digital/Telemarketing/Sales/OutSide Sales</td>\n",
       "      <td>https://www.upwork.com/jobs/Digital-Telemarket...</td>\n",
       "      <td>2024-03-24 13:40:52+00:00</td>\n",
       "      <td>False</td>\n",
       "      <td>NaN</td>\n",
       "      <td>NaN</td>\n",
       "      <td>100.0</td>\n",
       "      <td>Sri Lanka</td>\n",
       "      <td>2024</td>\n",
       "      <td>3</td>\n",
       "      <td>24</td>\n",
       "      <td>13:40:52</td>\n",
       "    </tr>\n",
       "    <tr>\n",
       "      <th>244825</th>\n",
       "      <td>WordPress Template Edits</td>\n",
       "      <td>https://www.upwork.com/jobs/WordPress-Template...</td>\n",
       "      <td>2024-03-24 13:37:50+00:00</td>\n",
       "      <td>True</td>\n",
       "      <td>5.0</td>\n",
       "      <td>30.0</td>\n",
       "      <td>NaN</td>\n",
       "      <td>United States</td>\n",
       "      <td>2024</td>\n",
       "      <td>3</td>\n",
       "      <td>24</td>\n",
       "      <td>13:37:50</td>\n",
       "    </tr>\n",
       "    <tr>\n",
       "      <th>244826</th>\n",
       "      <td>ELEMENTOR PRO For quick fix (Wordpress)</td>\n",
       "      <td>https://www.upwork.com/jobs/ELEMENTOR-PRO-For-...</td>\n",
       "      <td>2024-03-24 13:52:15+00:00</td>\n",
       "      <td>False</td>\n",
       "      <td>NaN</td>\n",
       "      <td>NaN</td>\n",
       "      <td>15.0</td>\n",
       "      <td>France</td>\n",
       "      <td>2024</td>\n",
       "      <td>3</td>\n",
       "      <td>24</td>\n",
       "      <td>13:52:15</td>\n",
       "    </tr>\n",
       "    <tr>\n",
       "      <th>244827</th>\n",
       "      <td>Creating a UGC Ad for Our Mobile Game</td>\n",
       "      <td>https://www.upwork.com/jobs/Creating-UGC-for-O...</td>\n",
       "      <td>2024-03-24 13:53:00+00:00</td>\n",
       "      <td>False</td>\n",
       "      <td>NaN</td>\n",
       "      <td>NaN</td>\n",
       "      <td>50.0</td>\n",
       "      <td>Israel</td>\n",
       "      <td>2024</td>\n",
       "      <td>3</td>\n",
       "      <td>24</td>\n",
       "      <td>13:53:00</td>\n",
       "    </tr>\n",
       "  </tbody>\n",
       "</table>\n",
       "<p>244827 rows × 12 columns</p>\n",
       "</div>"
      ],
      "text/plain": [
       "                                                    title  \\\n",
       "0       Experienced Media Buyer For Solar Pannel and R...   \n",
       "1                                    Full Stack Developer   \n",
       "2                                         SMMA Bubble App   \n",
       "3                  Talent Hunter Specialized in Marketing   \n",
       "4                                           Data Engineer   \n",
       "...                                                   ...   \n",
       "244823  Need Facebook advertising experts to launch pr...   \n",
       "244824          Digital/Telemarketing/Sales/OutSide Sales   \n",
       "244825                           WordPress Template Edits   \n",
       "244826            ELEMENTOR PRO For quick fix (Wordpress)   \n",
       "244827              Creating a UGC Ad for Our Mobile Game   \n",
       "\n",
       "                                                     link  \\\n",
       "0       https://www.upwork.com/jobs/Experienced-Media-...   \n",
       "1       https://www.upwork.com/jobs/Full-Stack-Develop...   \n",
       "2       https://www.upwork.com/jobs/SMMA-Bubble-App_%7...   \n",
       "3       https://www.upwork.com/jobs/Talent-Hunter-Spec...   \n",
       "4       https://www.upwork.com/jobs/Data-Engineer_%7E0...   \n",
       "...                                                   ...   \n",
       "244823  https://www.upwork.com/jobs/Need-Facebook-adve...   \n",
       "244824  https://www.upwork.com/jobs/Digital-Telemarket...   \n",
       "244825  https://www.upwork.com/jobs/WordPress-Template...   \n",
       "244826  https://www.upwork.com/jobs/ELEMENTOR-PRO-For-...   \n",
       "244827  https://www.upwork.com/jobs/Creating-UGC-for-O...   \n",
       "\n",
       "                  published_date  is_hourly  hourly_low  hourly_high  budget  \\\n",
       "0      2024-02-17 09:09:54+00:00      False         NaN          NaN   500.0   \n",
       "1      2024-02-17 09:09:17+00:00      False         NaN          NaN  1100.0   \n",
       "2      2024-02-17 09:08:46+00:00       True        10.0         30.0     NaN   \n",
       "3      2024-02-17 09:08:08+00:00       True         NaN          NaN     NaN   \n",
       "4      2024-02-17 09:07:42+00:00      False         NaN          NaN   650.0   \n",
       "...                          ...        ...         ...          ...     ...   \n",
       "244823 2024-03-24 13:28:38+00:00       True        20.0        100.0     NaN   \n",
       "244824 2024-03-24 13:40:52+00:00      False         NaN          NaN   100.0   \n",
       "244825 2024-03-24 13:37:50+00:00       True         5.0         30.0     NaN   \n",
       "244826 2024-03-24 13:52:15+00:00      False         NaN          NaN    15.0   \n",
       "244827 2024-03-24 13:53:00+00:00      False         NaN          NaN    50.0   \n",
       "\n",
       "              country  year  month  day      time  \n",
       "0             Unknown  2024      2   17  09:09:54  \n",
       "1       United States  2024      2   17  09:09:17  \n",
       "2       United States  2024      2   17  09:08:46  \n",
       "3       United States  2024      2   17  09:08:08  \n",
       "4               India  2024      2   17  09:07:42  \n",
       "...               ...   ...    ...  ...       ...  \n",
       "244823         Zambia  2024      3   24  13:28:38  \n",
       "244824      Sri Lanka  2024      3   24  13:40:52  \n",
       "244825  United States  2024      3   24  13:37:50  \n",
       "244826         France  2024      3   24  13:52:15  \n",
       "244827         Israel  2024      3   24  13:53:00  \n",
       "\n",
       "[244827 rows x 12 columns]"
      ]
     },
     "execution_count": 215,
     "metadata": {},
     "output_type": "execute_result"
    }
   ],
   "source": [
    "df_cleaned"
   ]
  },
  {
   "cell_type": "code",
   "execution_count": 216,
   "id": "89c9de0d",
   "metadata": {},
   "outputs": [
    {
     "data": {
      "text/plain": [
       "<Axes: xlabel='is_hourly'>"
      ]
     },
     "execution_count": 216,
     "metadata": {},
     "output_type": "execute_result"
    },
    {
     "data": {
      "image/png": "[encoded data removed]",
      "text/plain": [
       "<Figure size 640x480 with 1 Axes>"
      ]
     },
     "metadata": {},
     "output_type": "display_data"
    }
   ],
   "source": [
    "df_cleaned['is_hourly'].value_counts().plot(kind='bar')"
   ]
  },
  {
   "cell_type": "code",
   "execution_count": 217,
   "id": "b7580d2d",
   "metadata": {},
   "outputs": [
    {
     "data": {
      "text/plain": [
       "hourly_low\n",
       "15.0     16872\n",
       "10.0     14671\n",
       "5.0      11913\n",
       "20.0      9741\n",
       "3.0       6964\n",
       "         ...  \n",
       "53.0         1\n",
       "230.0        1\n",
       "210.0        1\n",
       "115.0        1\n",
       "88.0         1\n",
       "Name: count, Length: 114, dtype: int64"
      ]
     },
     "execution_count": 217,
     "metadata": {},
     "output_type": "execute_result"
    }
   ],
   "source": [
    "df_cleaned['hourly_low'].value_counts()"
   ]
  },
  {
   "cell_type": "code",
   "execution_count": 218,
   "id": "328b3faf",
   "metadata": {},
   "outputs": [
    {
     "data": {
      "text/plain": [
       "hourly_high\n",
       "30.0     9885\n",
       "50.0     9329\n",
       "25.0     7983\n",
       "35.0     7746\n",
       "20.0     7119\n",
       "         ... \n",
       "495.0       1\n",
       "173.0       1\n",
       "156.0       1\n",
       "620.0       1\n",
       "144.0       1\n",
       "Name: count, Length: 227, dtype: int64"
      ]
     },
     "execution_count": 218,
     "metadata": {},
     "output_type": "execute_result"
    }
   ],
   "source": [
    "df_cleaned['hourly_high'].value_counts()"
   ]
  },
  {
   "cell_type": "markdown",
   "id": "2333f44a",
   "metadata": {},
   "source": [
    "## Analyze Correlation Between Job Title Keywords and Salaries ##"
   ]
  },
  {
   "cell_type": "code",
   "execution_count": 219,
   "id": "5780745b",
   "metadata": {},
   "outputs": [
    {
     "name": "stderr",
     "output_type": "stream",
     "text": [
      "/var/folders/89/88_l7y257kd5mnk20gl6rm5m0000gn/T/ipykernel_5709/3134545098.py:5: SettingWithCopyWarning:\n",
      "\n",
      "\n",
      "A value is trying to be set on a copy of a slice from a DataFrame.\n",
      "Try using .loc[row_indexer,col_indexer] = value instead\n",
      "\n",
      "See the caveats in the documentation: https://pandas.pydata.org/pandas-docs/stable/user_guide/indexing.html#returning-a-view-versus-a-copy\n",
      "\n",
      "/var/folders/89/88_l7y257kd5mnk20gl6rm5m0000gn/T/ipykernel_5709/3134545098.py:6: SettingWithCopyWarning:\n",
      "\n",
      "\n",
      "A value is trying to be set on a copy of a slice from a DataFrame.\n",
      "Try using .loc[row_indexer,col_indexer] = value instead\n",
      "\n",
      "See the caveats in the documentation: https://pandas.pydata.org/pandas-docs/stable/user_guide/indexing.html#returning-a-view-versus-a-copy\n",
      "\n"
     ]
    }
   ],
   "source": [
    "# Normalize job title and salary ⬇️\n",
    "\n",
    "\n",
    "\n",
    "df_cleaned['title_clean'] = df['title'].str.lower()\n",
    "df_cleaned['normalized_salary'] = np.where(\n",
    "    df_cleaned['is_hourly'],\n",
    "    (df_cleaned['hourly_low'] + df_cleaned['hourly_high']) / 2,\n",
    "    df_cleaned['budget']\n",
    ")"
   ]
  },
  {
   "cell_type": "code",
   "execution_count": 220,
   "id": "25061abc",
   "metadata": {},
   "outputs": [
    {
     "data": {
      "text/html": [
       "<div>\n",
       "<style scoped>\n",
       "    .dataframe tbody tr th:only-of-type {\n",
       "        vertical-align: middle;\n",
       "    }\n",
       "\n",
       "    .dataframe tbody tr th {\n",
       "        vertical-align: top;\n",
       "    }\n",
       "\n",
       "    .dataframe thead th {\n",
       "        text-align: right;\n",
       "    }\n",
       "</style>\n",
       "<table border=\"1\" class=\"dataframe\">\n",
       "  <thead>\n",
       "    <tr style=\"text-align: right;\">\n",
       "      <th></th>\n",
       "      <th>title</th>\n",
       "      <th>link</th>\n",
       "      <th>published_date</th>\n",
       "      <th>is_hourly</th>\n",
       "      <th>hourly_low</th>\n",
       "      <th>hourly_high</th>\n",
       "      <th>budget</th>\n",
       "      <th>country</th>\n",
       "      <th>year</th>\n",
       "      <th>month</th>\n",
       "      <th>day</th>\n",
       "      <th>time</th>\n",
       "      <th>title_clean</th>\n",
       "      <th>normalized_salary</th>\n",
       "    </tr>\n",
       "  </thead>\n",
       "  <tbody>\n",
       "    <tr>\n",
       "      <th>0</th>\n",
       "      <td>Experienced Media Buyer For Solar Pannel and R...</td>\n",
       "      <td>https://www.upwork.com/jobs/Experienced-Media-...</td>\n",
       "      <td>2024-02-17 09:09:54+00:00</td>\n",
       "      <td>False</td>\n",
       "      <td>NaN</td>\n",
       "      <td>NaN</td>\n",
       "      <td>500.0</td>\n",
       "      <td>Unknown</td>\n",
       "      <td>2024</td>\n",
       "      <td>2</td>\n",
       "      <td>17</td>\n",
       "      <td>09:09:54</td>\n",
       "      <td>experienced media buyer for solar pannel and r...</td>\n",
       "      <td>500.0</td>\n",
       "    </tr>\n",
       "    <tr>\n",
       "      <th>1</th>\n",
       "      <td>Full Stack Developer</td>\n",
       "      <td>https://www.upwork.com/jobs/Full-Stack-Develop...</td>\n",
       "      <td>2024-02-17 09:09:17+00:00</td>\n",
       "      <td>False</td>\n",
       "      <td>NaN</td>\n",
       "      <td>NaN</td>\n",
       "      <td>1100.0</td>\n",
       "      <td>United States</td>\n",
       "      <td>2024</td>\n",
       "      <td>2</td>\n",
       "      <td>17</td>\n",
       "      <td>09:09:17</td>\n",
       "      <td>full stack developer</td>\n",
       "      <td>1100.0</td>\n",
       "    </tr>\n",
       "    <tr>\n",
       "      <th>2</th>\n",
       "      <td>SMMA Bubble App</td>\n",
       "      <td>https://www.upwork.com/jobs/SMMA-Bubble-App_%7...</td>\n",
       "      <td>2024-02-17 09:08:46+00:00</td>\n",
       "      <td>True</td>\n",
       "      <td>10.0</td>\n",
       "      <td>30.0</td>\n",
       "      <td>NaN</td>\n",
       "      <td>United States</td>\n",
       "      <td>2024</td>\n",
       "      <td>2</td>\n",
       "      <td>17</td>\n",
       "      <td>09:08:46</td>\n",
       "      <td>smma bubble app</td>\n",
       "      <td>20.0</td>\n",
       "    </tr>\n",
       "    <tr>\n",
       "      <th>3</th>\n",
       "      <td>Talent Hunter Specialized in Marketing</td>\n",
       "      <td>https://www.upwork.com/jobs/Talent-Hunter-Spec...</td>\n",
       "      <td>2024-02-17 09:08:08+00:00</td>\n",
       "      <td>True</td>\n",
       "      <td>NaN</td>\n",
       "      <td>NaN</td>\n",
       "      <td>NaN</td>\n",
       "      <td>United States</td>\n",
       "      <td>2024</td>\n",
       "      <td>2</td>\n",
       "      <td>17</td>\n",
       "      <td>09:08:08</td>\n",
       "      <td>talent hunter specialized in marketing</td>\n",
       "      <td>NaN</td>\n",
       "    </tr>\n",
       "    <tr>\n",
       "      <th>4</th>\n",
       "      <td>Data Engineer</td>\n",
       "      <td>https://www.upwork.com/jobs/Data-Engineer_%7E0...</td>\n",
       "      <td>2024-02-17 09:07:42+00:00</td>\n",
       "      <td>False</td>\n",
       "      <td>NaN</td>\n",
       "      <td>NaN</td>\n",
       "      <td>650.0</td>\n",
       "      <td>India</td>\n",
       "      <td>2024</td>\n",
       "      <td>2</td>\n",
       "      <td>17</td>\n",
       "      <td>09:07:42</td>\n",
       "      <td>data engineer</td>\n",
       "      <td>650.0</td>\n",
       "    </tr>\n",
       "    <tr>\n",
       "      <th>...</th>\n",
       "      <td>...</td>\n",
       "      <td>...</td>\n",
       "      <td>...</td>\n",
       "      <td>...</td>\n",
       "      <td>...</td>\n",
       "      <td>...</td>\n",
       "      <td>...</td>\n",
       "      <td>...</td>\n",
       "      <td>...</td>\n",
       "      <td>...</td>\n",
       "      <td>...</td>\n",
       "      <td>...</td>\n",
       "      <td>...</td>\n",
       "      <td>...</td>\n",
       "    </tr>\n",
       "    <tr>\n",
       "      <th>244823</th>\n",
       "      <td>Need Facebook advertising experts to launch pr...</td>\n",
       "      <td>https://www.upwork.com/jobs/Need-Facebook-adve...</td>\n",
       "      <td>2024-03-24 13:28:38+00:00</td>\n",
       "      <td>True</td>\n",
       "      <td>20.0</td>\n",
       "      <td>100.0</td>\n",
       "      <td>NaN</td>\n",
       "      <td>Zambia</td>\n",
       "      <td>2024</td>\n",
       "      <td>3</td>\n",
       "      <td>24</td>\n",
       "      <td>13:28:38</td>\n",
       "      <td>need facebook advertising experts to launch pr...</td>\n",
       "      <td>60.0</td>\n",
       "    </tr>\n",
       "    <tr>\n",
       "      <th>244824</th>\n",
       "      <td>Digital/Telemarketing/Sales/OutSide Sales</td>\n",
       "      <td>https://www.upwork.com/jobs/Digital-Telemarket...</td>\n",
       "      <td>2024-03-24 13:40:52+00:00</td>\n",
       "      <td>False</td>\n",
       "      <td>NaN</td>\n",
       "      <td>NaN</td>\n",
       "      <td>100.0</td>\n",
       "      <td>Sri Lanka</td>\n",
       "      <td>2024</td>\n",
       "      <td>3</td>\n",
       "      <td>24</td>\n",
       "      <td>13:40:52</td>\n",
       "      <td>digital/telemarketing/sales/outside sales</td>\n",
       "      <td>100.0</td>\n",
       "    </tr>\n",
       "    <tr>\n",
       "      <th>244825</th>\n",
       "      <td>WordPress Template Edits</td>\n",
       "      <td>https://www.upwork.com/jobs/WordPress-Template...</td>\n",
       "      <td>2024-03-24 13:37:50+00:00</td>\n",
       "      <td>True</td>\n",
       "      <td>5.0</td>\n",
       "      <td>30.0</td>\n",
       "      <td>NaN</td>\n",
       "      <td>United States</td>\n",
       "      <td>2024</td>\n",
       "      <td>3</td>\n",
       "      <td>24</td>\n",
       "      <td>13:37:50</td>\n",
       "      <td>wordpress template edits</td>\n",
       "      <td>17.5</td>\n",
       "    </tr>\n",
       "    <tr>\n",
       "      <th>244826</th>\n",
       "      <td>ELEMENTOR PRO For quick fix (Wordpress)</td>\n",
       "      <td>https://www.upwork.com/jobs/ELEMENTOR-PRO-For-...</td>\n",
       "      <td>2024-03-24 13:52:15+00:00</td>\n",
       "      <td>False</td>\n",
       "      <td>NaN</td>\n",
       "      <td>NaN</td>\n",
       "      <td>15.0</td>\n",
       "      <td>France</td>\n",
       "      <td>2024</td>\n",
       "      <td>3</td>\n",
       "      <td>24</td>\n",
       "      <td>13:52:15</td>\n",
       "      <td>elementor pro for quick fix (wordpress)</td>\n",
       "      <td>15.0</td>\n",
       "    </tr>\n",
       "    <tr>\n",
       "      <th>244827</th>\n",
       "      <td>Creating a UGC Ad for Our Mobile Game</td>\n",
       "      <td>https://www.upwork.com/jobs/Creating-UGC-for-O...</td>\n",
       "      <td>2024-03-24 13:53:00+00:00</td>\n",
       "      <td>False</td>\n",
       "      <td>NaN</td>\n",
       "      <td>NaN</td>\n",
       "      <td>50.0</td>\n",
       "      <td>Israel</td>\n",
       "      <td>2024</td>\n",
       "      <td>3</td>\n",
       "      <td>24</td>\n",
       "      <td>13:53:00</td>\n",
       "      <td>creating a ugc ad for our mobile game</td>\n",
       "      <td>50.0</td>\n",
       "    </tr>\n",
       "  </tbody>\n",
       "</table>\n",
       "<p>244827 rows × 14 columns</p>\n",
       "</div>"
      ],
      "text/plain": [
       "                                                    title  \\\n",
       "0       Experienced Media Buyer For Solar Pannel and R...   \n",
       "1                                    Full Stack Developer   \n",
       "2                                         SMMA Bubble App   \n",
       "3                  Talent Hunter Specialized in Marketing   \n",
       "4                                           Data Engineer   \n",
       "...                                                   ...   \n",
       "244823  Need Facebook advertising experts to launch pr...   \n",
       "244824          Digital/Telemarketing/Sales/OutSide Sales   \n",
       "244825                           WordPress Template Edits   \n",
       "244826            ELEMENTOR PRO For quick fix (Wordpress)   \n",
       "244827              Creating a UGC Ad for Our Mobile Game   \n",
       "\n",
       "                                                     link  \\\n",
       "0       https://www.upwork.com/jobs/Experienced-Media-...   \n",
       "1       https://www.upwork.com/jobs/Full-Stack-Develop...   \n",
       "2       https://www.upwork.com/jobs/SMMA-Bubble-App_%7...   \n",
       "3       https://www.upwork.com/jobs/Talent-Hunter-Spec...   \n",
       "4       https://www.upwork.com/jobs/Data-Engineer_%7E0...   \n",
       "...                                                   ...   \n",
       "244823  https://www.upwork.com/jobs/Need-Facebook-adve...   \n",
       "244824  https://www.upwork.com/jobs/Digital-Telemarket...   \n",
       "244825  https://www.upwork.com/jobs/WordPress-Template...   \n",
       "244826  https://www.upwork.com/jobs/ELEMENTOR-PRO-For-...   \n",
       "244827  https://www.upwork.com/jobs/Creating-UGC-for-O...   \n",
       "\n",
       "                  published_date  is_hourly  hourly_low  hourly_high  budget  \\\n",
       "0      2024-02-17 09:09:54+00:00      False         NaN          NaN   500.0   \n",
       "1      2024-02-17 09:09:17+00:00      False         NaN          NaN  1100.0   \n",
       "2      2024-02-17 09:08:46+00:00       True        10.0         30.0     NaN   \n",
       "3      2024-02-17 09:08:08+00:00       True         NaN          NaN     NaN   \n",
       "4      2024-02-17 09:07:42+00:00      False         NaN          NaN   650.0   \n",
       "...                          ...        ...         ...          ...     ...   \n",
       "244823 2024-03-24 13:28:38+00:00       True        20.0        100.0     NaN   \n",
       "244824 2024-03-24 13:40:52+00:00      False         NaN          NaN   100.0   \n",
       "244825 2024-03-24 13:37:50+00:00       True         5.0         30.0     NaN   \n",
       "244826 2024-03-24 13:52:15+00:00      False         NaN          NaN    15.0   \n",
       "244827 2024-03-24 13:53:00+00:00      False         NaN          NaN    50.0   \n",
       "\n",
       "              country  year  month  day      time  \\\n",
       "0             Unknown  2024      2   17  09:09:54   \n",
       "1       United States  2024      2   17  09:09:17   \n",
       "2       United States  2024      2   17  09:08:46   \n",
       "3       United States  2024      2   17  09:08:08   \n",
       "4               India  2024      2   17  09:07:42   \n",
       "...               ...   ...    ...  ...       ...   \n",
       "244823         Zambia  2024      3   24  13:28:38   \n",
       "244824      Sri Lanka  2024      3   24  13:40:52   \n",
       "244825  United States  2024      3   24  13:37:50   \n",
       "244826         France  2024      3   24  13:52:15   \n",
       "244827         Israel  2024      3   24  13:53:00   \n",
       "\n",
       "                                              title_clean  normalized_salary  \n",
       "0       experienced media buyer for solar pannel and r...              500.0  \n",
       "1                                    full stack developer             1100.0  \n",
       "2                                         smma bubble app               20.0  \n",
       "3                  talent hunter specialized in marketing                NaN  \n",
       "4                                           data engineer              650.0  \n",
       "...                                                   ...                ...  \n",
       "244823  need facebook advertising experts to launch pr...               60.0  \n",
       "244824          digital/telemarketing/sales/outside sales              100.0  \n",
       "244825                           wordpress template edits               17.5  \n",
       "244826            elementor pro for quick fix (wordpress)               15.0  \n",
       "244827              creating a ugc ad for our mobile game               50.0  \n",
       "\n",
       "[244827 rows x 14 columns]"
      ]
     },
     "execution_count": 220,
     "metadata": {},
     "output_type": "execute_result"
    }
   ],
   "source": [
    "df_cleaned"
   ]
  },
  {
   "cell_type": "code",
   "execution_count": 278,
   "id": "64001607",
   "metadata": {},
   "outputs": [
    {
     "data": {
      "text/plain": [
       "(206313, 16)"
      ]
     },
     "execution_count": 278,
     "metadata": {},
     "output_type": "execute_result"
    }
   ],
   "source": [
    "df_cleaned.shape"
   ]
  },
  {
   "cell_type": "code",
   "execution_count": 277,
   "id": "a7466dc8",
   "metadata": {},
   "outputs": [
    {
     "data": {
      "text/plain": [
       "is_hourly\n",
       "False    103891\n",
       "True     102422\n",
       "Name: count, dtype: int64"
      ]
     },
     "execution_count": 277,
     "metadata": {},
     "output_type": "execute_result"
    }
   ],
   "source": [
    "df_cleaned['is_hourly'].value_counts()"
   ]
  },
  {
   "cell_type": "code",
   "execution_count": 221,
   "id": "64e4b390",
   "metadata": {},
   "outputs": [],
   "source": [
    "df_cleaned= df_cleaned.dropna(subset=['hourly_low', 'hourly_high', 'budget'], how='all')"
   ]
  },
  {
   "cell_type": "code",
   "execution_count": 222,
   "id": "a4053674",
   "metadata": {},
   "outputs": [
    {
     "data": {
      "text/html": [
       "<div>\n",
       "<style scoped>\n",
       "    .dataframe tbody tr th:only-of-type {\n",
       "        vertical-align: middle;\n",
       "    }\n",
       "\n",
       "    .dataframe tbody tr th {\n",
       "        vertical-align: top;\n",
       "    }\n",
       "\n",
       "    .dataframe thead th {\n",
       "        text-align: right;\n",
       "    }\n",
       "</style>\n",
       "<table border=\"1\" class=\"dataframe\">\n",
       "  <thead>\n",
       "    <tr style=\"text-align: right;\">\n",
       "      <th></th>\n",
       "      <th>title</th>\n",
       "      <th>link</th>\n",
       "      <th>published_date</th>\n",
       "      <th>is_hourly</th>\n",
       "      <th>hourly_low</th>\n",
       "      <th>hourly_high</th>\n",
       "      <th>budget</th>\n",
       "      <th>country</th>\n",
       "      <th>year</th>\n",
       "      <th>month</th>\n",
       "      <th>day</th>\n",
       "      <th>time</th>\n",
       "      <th>title_clean</th>\n",
       "      <th>normalized_salary</th>\n",
       "    </tr>\n",
       "  </thead>\n",
       "  <tbody>\n",
       "    <tr>\n",
       "      <th>0</th>\n",
       "      <td>Experienced Media Buyer For Solar Pannel and R...</td>\n",
       "      <td>https://www.upwork.com/jobs/Experienced-Media-...</td>\n",
       "      <td>2024-02-17 09:09:54+00:00</td>\n",
       "      <td>False</td>\n",
       "      <td>NaN</td>\n",
       "      <td>NaN</td>\n",
       "      <td>500.0</td>\n",
       "      <td>Unknown</td>\n",
       "      <td>2024</td>\n",
       "      <td>2</td>\n",
       "      <td>17</td>\n",
       "      <td>09:09:54</td>\n",
       "      <td>experienced media buyer for solar pannel and r...</td>\n",
       "      <td>500.0</td>\n",
       "    </tr>\n",
       "    <tr>\n",
       "      <th>1</th>\n",
       "      <td>Full Stack Developer</td>\n",
       "      <td>https://www.upwork.com/jobs/Full-Stack-Develop...</td>\n",
       "      <td>2024-02-17 09:09:17+00:00</td>\n",
       "      <td>False</td>\n",
       "      <td>NaN</td>\n",
       "      <td>NaN</td>\n",
       "      <td>1100.0</td>\n",
       "      <td>United States</td>\n",
       "      <td>2024</td>\n",
       "      <td>2</td>\n",
       "      <td>17</td>\n",
       "      <td>09:09:17</td>\n",
       "      <td>full stack developer</td>\n",
       "      <td>1100.0</td>\n",
       "    </tr>\n",
       "    <tr>\n",
       "      <th>2</th>\n",
       "      <td>SMMA Bubble App</td>\n",
       "      <td>https://www.upwork.com/jobs/SMMA-Bubble-App_%7...</td>\n",
       "      <td>2024-02-17 09:08:46+00:00</td>\n",
       "      <td>True</td>\n",
       "      <td>10.0</td>\n",
       "      <td>30.0</td>\n",
       "      <td>NaN</td>\n",
       "      <td>United States</td>\n",
       "      <td>2024</td>\n",
       "      <td>2</td>\n",
       "      <td>17</td>\n",
       "      <td>09:08:46</td>\n",
       "      <td>smma bubble app</td>\n",
       "      <td>20.0</td>\n",
       "    </tr>\n",
       "    <tr>\n",
       "      <th>4</th>\n",
       "      <td>Data Engineer</td>\n",
       "      <td>https://www.upwork.com/jobs/Data-Engineer_%7E0...</td>\n",
       "      <td>2024-02-17 09:07:42+00:00</td>\n",
       "      <td>False</td>\n",
       "      <td>NaN</td>\n",
       "      <td>NaN</td>\n",
       "      <td>650.0</td>\n",
       "      <td>India</td>\n",
       "      <td>2024</td>\n",
       "      <td>2</td>\n",
       "      <td>17</td>\n",
       "      <td>09:07:42</td>\n",
       "      <td>data engineer</td>\n",
       "      <td>650.0</td>\n",
       "    </tr>\n",
       "    <tr>\n",
       "      <th>6</th>\n",
       "      <td>Want to fix the WordPress Plugin</td>\n",
       "      <td>https://www.upwork.com/jobs/Want-fix-the-WordP...</td>\n",
       "      <td>2024-02-17 09:07:27+00:00</td>\n",
       "      <td>False</td>\n",
       "      <td>NaN</td>\n",
       "      <td>NaN</td>\n",
       "      <td>5.0</td>\n",
       "      <td>India</td>\n",
       "      <td>2024</td>\n",
       "      <td>2</td>\n",
       "      <td>17</td>\n",
       "      <td>09:07:27</td>\n",
       "      <td>want to fix the wordpress plugin</td>\n",
       "      <td>5.0</td>\n",
       "    </tr>\n",
       "    <tr>\n",
       "      <th>...</th>\n",
       "      <td>...</td>\n",
       "      <td>...</td>\n",
       "      <td>...</td>\n",
       "      <td>...</td>\n",
       "      <td>...</td>\n",
       "      <td>...</td>\n",
       "      <td>...</td>\n",
       "      <td>...</td>\n",
       "      <td>...</td>\n",
       "      <td>...</td>\n",
       "      <td>...</td>\n",
       "      <td>...</td>\n",
       "      <td>...</td>\n",
       "      <td>...</td>\n",
       "    </tr>\n",
       "    <tr>\n",
       "      <th>244823</th>\n",
       "      <td>Need Facebook advertising experts to launch pr...</td>\n",
       "      <td>https://www.upwork.com/jobs/Need-Facebook-adve...</td>\n",
       "      <td>2024-03-24 13:28:38+00:00</td>\n",
       "      <td>True</td>\n",
       "      <td>20.0</td>\n",
       "      <td>100.0</td>\n",
       "      <td>NaN</td>\n",
       "      <td>Zambia</td>\n",
       "      <td>2024</td>\n",
       "      <td>3</td>\n",
       "      <td>24</td>\n",
       "      <td>13:28:38</td>\n",
       "      <td>need facebook advertising experts to launch pr...</td>\n",
       "      <td>60.0</td>\n",
       "    </tr>\n",
       "    <tr>\n",
       "      <th>244824</th>\n",
       "      <td>Digital/Telemarketing/Sales/OutSide Sales</td>\n",
       "      <td>https://www.upwork.com/jobs/Digital-Telemarket...</td>\n",
       "      <td>2024-03-24 13:40:52+00:00</td>\n",
       "      <td>False</td>\n",
       "      <td>NaN</td>\n",
       "      <td>NaN</td>\n",
       "      <td>100.0</td>\n",
       "      <td>Sri Lanka</td>\n",
       "      <td>2024</td>\n",
       "      <td>3</td>\n",
       "      <td>24</td>\n",
       "      <td>13:40:52</td>\n",
       "      <td>digital/telemarketing/sales/outside sales</td>\n",
       "      <td>100.0</td>\n",
       "    </tr>\n",
       "    <tr>\n",
       "      <th>244825</th>\n",
       "      <td>WordPress Template Edits</td>\n",
       "      <td>https://www.upwork.com/jobs/WordPress-Template...</td>\n",
       "      <td>2024-03-24 13:37:50+00:00</td>\n",
       "      <td>True</td>\n",
       "      <td>5.0</td>\n",
       "      <td>30.0</td>\n",
       "      <td>NaN</td>\n",
       "      <td>United States</td>\n",
       "      <td>2024</td>\n",
       "      <td>3</td>\n",
       "      <td>24</td>\n",
       "      <td>13:37:50</td>\n",
       "      <td>wordpress template edits</td>\n",
       "      <td>17.5</td>\n",
       "    </tr>\n",
       "    <tr>\n",
       "      <th>244826</th>\n",
       "      <td>ELEMENTOR PRO For quick fix (Wordpress)</td>\n",
       "      <td>https://www.upwork.com/jobs/ELEMENTOR-PRO-For-...</td>\n",
       "      <td>2024-03-24 13:52:15+00:00</td>\n",
       "      <td>False</td>\n",
       "      <td>NaN</td>\n",
       "      <td>NaN</td>\n",
       "      <td>15.0</td>\n",
       "      <td>France</td>\n",
       "      <td>2024</td>\n",
       "      <td>3</td>\n",
       "      <td>24</td>\n",
       "      <td>13:52:15</td>\n",
       "      <td>elementor pro for quick fix (wordpress)</td>\n",
       "      <td>15.0</td>\n",
       "    </tr>\n",
       "    <tr>\n",
       "      <th>244827</th>\n",
       "      <td>Creating a UGC Ad for Our Mobile Game</td>\n",
       "      <td>https://www.upwork.com/jobs/Creating-UGC-for-O...</td>\n",
       "      <td>2024-03-24 13:53:00+00:00</td>\n",
       "      <td>False</td>\n",
       "      <td>NaN</td>\n",
       "      <td>NaN</td>\n",
       "      <td>50.0</td>\n",
       "      <td>Israel</td>\n",
       "      <td>2024</td>\n",
       "      <td>3</td>\n",
       "      <td>24</td>\n",
       "      <td>13:53:00</td>\n",
       "      <td>creating a ugc ad for our mobile game</td>\n",
       "      <td>50.0</td>\n",
       "    </tr>\n",
       "  </tbody>\n",
       "</table>\n",
       "<p>206313 rows × 14 columns</p>\n",
       "</div>"
      ],
      "text/plain": [
       "                                                    title  \\\n",
       "0       Experienced Media Buyer For Solar Pannel and R...   \n",
       "1                                    Full Stack Developer   \n",
       "2                                         SMMA Bubble App   \n",
       "4                                           Data Engineer   \n",
       "6                        Want to fix the WordPress Plugin   \n",
       "...                                                   ...   \n",
       "244823  Need Facebook advertising experts to launch pr...   \n",
       "244824          Digital/Telemarketing/Sales/OutSide Sales   \n",
       "244825                           WordPress Template Edits   \n",
       "244826            ELEMENTOR PRO For quick fix (Wordpress)   \n",
       "244827              Creating a UGC Ad for Our Mobile Game   \n",
       "\n",
       "                                                     link  \\\n",
       "0       https://www.upwork.com/jobs/Experienced-Media-...   \n",
       "1       https://www.upwork.com/jobs/Full-Stack-Develop...   \n",
       "2       https://www.upwork.com/jobs/SMMA-Bubble-App_%7...   \n",
       "4       https://www.upwork.com/jobs/Data-Engineer_%7E0...   \n",
       "6       https://www.upwork.com/jobs/Want-fix-the-WordP...   \n",
       "...                                                   ...   \n",
       "244823  https://www.upwork.com/jobs/Need-Facebook-adve...   \n",
       "244824  https://www.upwork.com/jobs/Digital-Telemarket...   \n",
       "244825  https://www.upwork.com/jobs/WordPress-Template...   \n",
       "244826  https://www.upwork.com/jobs/ELEMENTOR-PRO-For-...   \n",
       "244827  https://www.upwork.com/jobs/Creating-UGC-for-O...   \n",
       "\n",
       "                  published_date  is_hourly  hourly_low  hourly_high  budget  \\\n",
       "0      2024-02-17 09:09:54+00:00      False         NaN          NaN   500.0   \n",
       "1      2024-02-17 09:09:17+00:00      False         NaN          NaN  1100.0   \n",
       "2      2024-02-17 09:08:46+00:00       True        10.0         30.0     NaN   \n",
       "4      2024-02-17 09:07:42+00:00      False         NaN          NaN   650.0   \n",
       "6      2024-02-17 09:07:27+00:00      False         NaN          NaN     5.0   \n",
       "...                          ...        ...         ...          ...     ...   \n",
       "244823 2024-03-24 13:28:38+00:00       True        20.0        100.0     NaN   \n",
       "244824 2024-03-24 13:40:52+00:00      False         NaN          NaN   100.0   \n",
       "244825 2024-03-24 13:37:50+00:00       True         5.0         30.0     NaN   \n",
       "244826 2024-03-24 13:52:15+00:00      False         NaN          NaN    15.0   \n",
       "244827 2024-03-24 13:53:00+00:00      False         NaN          NaN    50.0   \n",
       "\n",
       "              country  year  month  day      time  \\\n",
       "0             Unknown  2024      2   17  09:09:54   \n",
       "1       United States  2024      2   17  09:09:17   \n",
       "2       United States  2024      2   17  09:08:46   \n",
       "4               India  2024      2   17  09:07:42   \n",
       "6               India  2024      2   17  09:07:27   \n",
       "...               ...   ...    ...  ...       ...   \n",
       "244823         Zambia  2024      3   24  13:28:38   \n",
       "244824      Sri Lanka  2024      3   24  13:40:52   \n",
       "244825  United States  2024      3   24  13:37:50   \n",
       "244826         France  2024      3   24  13:52:15   \n",
       "244827         Israel  2024      3   24  13:53:00   \n",
       "\n",
       "                                              title_clean  normalized_salary  \n",
       "0       experienced media buyer for solar pannel and r...              500.0  \n",
       "1                                    full stack developer             1100.0  \n",
       "2                                         smma bubble app               20.0  \n",
       "4                                           data engineer              650.0  \n",
       "6                        want to fix the wordpress plugin                5.0  \n",
       "...                                                   ...                ...  \n",
       "244823  need facebook advertising experts to launch pr...               60.0  \n",
       "244824          digital/telemarketing/sales/outside sales              100.0  \n",
       "244825                           wordpress template edits               17.5  \n",
       "244826            elementor pro for quick fix (wordpress)               15.0  \n",
       "244827              creating a ugc ad for our mobile game               50.0  \n",
       "\n",
       "[206313 rows x 14 columns]"
      ]
     },
     "execution_count": 222,
     "metadata": {},
     "output_type": "execute_result"
    }
   ],
   "source": [
    "df_cleaned"
   ]
  },
  {
   "cell_type": "code",
   "execution_count": 223,
   "id": "23858a48",
   "metadata": {},
   "outputs": [
    {
     "data": {
      "text/plain": [
       "(206313, 14)"
      ]
     },
     "execution_count": 223,
     "metadata": {},
     "output_type": "execute_result"
    }
   ],
   "source": [
    "df_cleaned.shape"
   ]
  },
  {
   "cell_type": "code",
   "execution_count": 224,
   "id": "1909161f",
   "metadata": {},
   "outputs": [],
   "source": [
    "from sklearn.feature_extraction.text import CountVectorizer\n"
   ]
  },
  {
   "cell_type": "markdown",
   "id": "12b0cd6a",
   "metadata": {},
   "source": [
    "## Extract keywords from titles ⬇️ ##"
   ]
  },
  {
   "cell_type": "code",
   "execution_count": 225,
   "id": "954b080d",
   "metadata": {},
   "outputs": [],
   "source": [
    "vectorizer = CountVectorizer(stop_words='english', max_features=50)\n",
    "X = vectorizer.fit_transform(df_cleaned['title_clean'])\n"
   ]
  },
  {
   "cell_type": "code",
   "execution_count": 226,
   "id": "acd0beec",
   "metadata": {},
   "outputs": [
    {
     "data": {
      "text/html": [
       "<div>\n",
       "<style scoped>\n",
       "    .dataframe tbody tr th:only-of-type {\n",
       "        vertical-align: middle;\n",
       "    }\n",
       "\n",
       "    .dataframe tbody tr th {\n",
       "        vertical-align: top;\n",
       "    }\n",
       "\n",
       "    .dataframe thead th {\n",
       "        text-align: right;\n",
       "    }\n",
       "</style>\n",
       "<table border=\"1\" class=\"dataframe\">\n",
       "  <thead>\n",
       "    <tr style=\"text-align: right;\">\n",
       "      <th></th>\n",
       "      <th>title</th>\n",
       "      <th>normalized_salary</th>\n",
       "    </tr>\n",
       "  </thead>\n",
       "  <tbody>\n",
       "    <tr>\n",
       "      <th>0</th>\n",
       "      <td>Experienced Media Buyer For Solar Pannel and R...</td>\n",
       "      <td>500.0</td>\n",
       "    </tr>\n",
       "    <tr>\n",
       "      <th>1</th>\n",
       "      <td>Full Stack Developer</td>\n",
       "      <td>1100.0</td>\n",
       "    </tr>\n",
       "    <tr>\n",
       "      <th>2</th>\n",
       "      <td>SMMA Bubble App</td>\n",
       "      <td>20.0</td>\n",
       "    </tr>\n",
       "    <tr>\n",
       "      <th>4</th>\n",
       "      <td>Data Engineer</td>\n",
       "      <td>650.0</td>\n",
       "    </tr>\n",
       "    <tr>\n",
       "      <th>6</th>\n",
       "      <td>Want to fix the WordPress Plugin</td>\n",
       "      <td>5.0</td>\n",
       "    </tr>\n",
       "  </tbody>\n",
       "</table>\n",
       "</div>"
      ],
      "text/plain": [
       "                                               title  normalized_salary\n",
       "0  Experienced Media Buyer For Solar Pannel and R...              500.0\n",
       "1                               Full Stack Developer             1100.0\n",
       "2                                    SMMA Bubble App               20.0\n",
       "4                                      Data Engineer              650.0\n",
       "6                   Want to fix the WordPress Plugin                5.0"
      ]
     },
     "execution_count": 226,
     "metadata": {},
     "output_type": "execute_result"
    }
   ],
   "source": [
    "df_cleaned[['title', 'normalized_salary']].head()"
   ]
  },
  {
   "cell_type": "code",
   "execution_count": 227,
   "id": "3df905a6",
   "metadata": {},
   "outputs": [],
   "source": [
    "keywords_df = pd.DataFrame(X.toarray(), columns=vectorizer.get_feature_names_out())\n",
    "keywords_df['normalized_salary'] = df_cleaned['normalized_salary']\n",
    "\n"
   ]
  },
  {
   "cell_type": "markdown",
   "id": "e48ea2f0",
   "metadata": {},
   "source": [
    "## Compute keyword salary statistics ⬇️ ##"
   ]
  },
  {
   "cell_type": "code",
   "execution_count": 228,
   "id": "66ea5331",
   "metadata": {},
   "outputs": [],
   "source": [
    "keyword_salary_stats = {\n",
    "    keyword: {\n",
    "        'avg_salary': keywords_df.loc[keywords_df[keyword] > 0, 'normalized_salary'].mean(),\n",
    "        'count': (keywords_df[keyword] > 0).sum()\n",
    "    }\n",
    "    for keyword in vectorizer.get_feature_names_out()\n",
    "}\n",
    "keyword_salary_df = pd.DataFrame(keyword_salary_stats).T.sort_values(by='avg_salary', ascending=False)"
   ]
  },
  {
   "cell_type": "code",
   "execution_count": 229,
   "id": "0ec7d69b",
   "metadata": {},
   "outputs": [
    {
     "data": {
      "text/html": [
       "<div>\n",
       "<style scoped>\n",
       "    .dataframe tbody tr th:only-of-type {\n",
       "        vertical-align: middle;\n",
       "    }\n",
       "\n",
       "    .dataframe tbody tr th {\n",
       "        vertical-align: top;\n",
       "    }\n",
       "\n",
       "    .dataframe thead th {\n",
       "        text-align: right;\n",
       "    }\n",
       "</style>\n",
       "<table border=\"1\" class=\"dataframe\">\n",
       "  <thead>\n",
       "    <tr style=\"text-align: right;\">\n",
       "      <th></th>\n",
       "      <th>avg_salary</th>\n",
       "      <th>count</th>\n",
       "    </tr>\n",
       "  </thead>\n",
       "  <tbody>\n",
       "    <tr>\n",
       "      <th>ads</th>\n",
       "      <td>911.868518</td>\n",
       "      <td>4287.0</td>\n",
       "    </tr>\n",
       "    <tr>\n",
       "      <th>ai</th>\n",
       "      <td>878.915354</td>\n",
       "      <td>3381.0</td>\n",
       "    </tr>\n",
       "    <tr>\n",
       "      <th>help</th>\n",
       "      <td>863.825443</td>\n",
       "      <td>4159.0</td>\n",
       "    </tr>\n",
       "    <tr>\n",
       "      <th>channel</th>\n",
       "      <td>800.597121</td>\n",
       "      <td>2951.0</td>\n",
       "    </tr>\n",
       "    <tr>\n",
       "      <th>google</th>\n",
       "      <td>784.066185</td>\n",
       "      <td>5421.0</td>\n",
       "    </tr>\n",
       "  </tbody>\n",
       "</table>\n",
       "</div>"
      ],
      "text/plain": [
       "         avg_salary   count\n",
       "ads      911.868518  4287.0\n",
       "ai       878.915354  3381.0\n",
       "help     863.825443  4159.0\n",
       "channel  800.597121  2951.0\n",
       "google   784.066185  5421.0"
      ]
     },
     "execution_count": 229,
     "metadata": {},
     "output_type": "execute_result"
    }
   ],
   "source": [
    "keyword_salary_df.head()"
   ]
  },
  {
   "cell_type": "code",
   "execution_count": 230,
   "id": "1c8ce638",
   "metadata": {},
   "outputs": [
    {
     "data": {
      "image/png": "[encoded data removed]",
      "text/plain": [
       "<Figure size 1200x600 with 1 Axes>"
      ]
     },
     "metadata": {},
     "output_type": "display_data"
    }
   ],
   "source": [
    "plt.figure(figsize=(12, 6))\n",
    "sns.barplot(data=keyword_salary_df.head(15).reset_index(), x='index', y='avg_salary', palette='viridis')\n",
    "plt.xticks(rotation=45)\n",
    "plt.title('Top 15 Job Title Keywords by Average Salary')\n",
    "plt.xlabel('Keyword')\n",
    "plt.ylabel('Average Salary (USD)')\n",
    "plt.tight_layout()\n",
    "plt.show()"
   ]
  },
  {
   "cell_type": "code",
   "execution_count": 231,
   "id": "1b2deb20",
   "metadata": {},
   "outputs": [
    {
     "name": "stderr",
     "output_type": "stream",
     "text": [
      "/var/folders/89/88_l7y257kd5mnk20gl6rm5m0000gn/T/ipykernel_5709/3270117861.py:1: UserWarning:\n",
      "\n",
      "Converting to PeriodArray/Index representation will drop timezone information.\n",
      "\n",
      "/var/folders/89/88_l7y257kd5mnk20gl6rm5m0000gn/T/ipykernel_5709/3270117861.py:1: SettingWithCopyWarning:\n",
      "\n",
      "\n",
      "A value is trying to be set on a copy of a slice from a DataFrame.\n",
      "Try using .loc[row_indexer,col_indexer] = value instead\n",
      "\n",
      "See the caveats in the documentation: https://pandas.pydata.org/pandas-docs/stable/user_guide/indexing.html#returning-a-view-versus-a-copy\n",
      "\n"
     ]
    }
   ],
   "source": [
    "df_cleaned['year_month'] = df_cleaned['published_date'].dt.to_period('M').dt.to_timestamp()\n"
   ]
  },
  {
   "cell_type": "code",
   "execution_count": 232,
   "id": "c0603b19",
   "metadata": {},
   "outputs": [],
   "source": [
    "vectorizer = CountVectorizer(stop_words='english', max_features=30)\n",
    "X = vectorizer.fit_transform(df_cleaned['title_clean'])\n",
    "keyword_df = pd.DataFrame(X.toarray(), columns=vectorizer.get_feature_names_out())\n",
    "keyword_df['year_month'] = df_cleaned['year_month']\n",
    " "
   ]
  },
  {
   "cell_type": "code",
   "execution_count": 233,
   "id": "cf2a8c5b",
   "metadata": {},
   "outputs": [],
   "source": [
    "trend_data = keyword_df.groupby('year_month').sum()\n"
   ]
  },
  {
   "cell_type": "code",
   "execution_count": 234,
   "id": "7632f83b",
   "metadata": {},
   "outputs": [
    {
     "data": {
      "text/html": [
       "<div>\n",
       "<style scoped>\n",
       "    .dataframe tbody tr th:only-of-type {\n",
       "        vertical-align: middle;\n",
       "    }\n",
       "\n",
       "    .dataframe tbody tr th {\n",
       "        vertical-align: top;\n",
       "    }\n",
       "\n",
       "    .dataframe thead th {\n",
       "        text-align: right;\n",
       "    }\n",
       "</style>\n",
       "<table border=\"1\" class=\"dataframe\">\n",
       "  <thead>\n",
       "    <tr style=\"text-align: right;\">\n",
       "      <th></th>\n",
       "      <th>amp</th>\n",
       "      <th>app</th>\n",
       "      <th>assistant</th>\n",
       "      <th>business</th>\n",
       "      <th>content</th>\n",
       "      <th>create</th>\n",
       "      <th>data</th>\n",
       "      <th>design</th>\n",
       "      <th>designer</th>\n",
       "      <th>developer</th>\n",
       "      <th>...</th>\n",
       "      <th>need</th>\n",
       "      <th>needed</th>\n",
       "      <th>project</th>\n",
       "      <th>social</th>\n",
       "      <th>specialist</th>\n",
       "      <th>video</th>\n",
       "      <th>web</th>\n",
       "      <th>website</th>\n",
       "      <th>wordpress</th>\n",
       "      <th>youtube</th>\n",
       "    </tr>\n",
       "    <tr>\n",
       "      <th>year_month</th>\n",
       "      <th></th>\n",
       "      <th></th>\n",
       "      <th></th>\n",
       "      <th></th>\n",
       "      <th></th>\n",
       "      <th></th>\n",
       "      <th></th>\n",
       "      <th></th>\n",
       "      <th></th>\n",
       "      <th></th>\n",
       "      <th></th>\n",
       "      <th></th>\n",
       "      <th></th>\n",
       "      <th></th>\n",
       "      <th></th>\n",
       "      <th></th>\n",
       "      <th></th>\n",
       "      <th></th>\n",
       "      <th></th>\n",
       "      <th></th>\n",
       "      <th></th>\n",
       "    </tr>\n",
       "  </thead>\n",
       "  <tbody>\n",
       "    <tr>\n",
       "      <th>2023-12-01</th>\n",
       "      <td>1</td>\n",
       "      <td>0</td>\n",
       "      <td>0</td>\n",
       "      <td>0</td>\n",
       "      <td>0</td>\n",
       "      <td>1</td>\n",
       "      <td>1</td>\n",
       "      <td>1</td>\n",
       "      <td>1</td>\n",
       "      <td>0</td>\n",
       "      <td>...</td>\n",
       "      <td>1</td>\n",
       "      <td>0</td>\n",
       "      <td>0</td>\n",
       "      <td>0</td>\n",
       "      <td>1</td>\n",
       "      <td>1</td>\n",
       "      <td>0</td>\n",
       "      <td>0</td>\n",
       "      <td>0</td>\n",
       "      <td>0</td>\n",
       "    </tr>\n",
       "    <tr>\n",
       "      <th>2024-01-01</th>\n",
       "      <td>5</td>\n",
       "      <td>0</td>\n",
       "      <td>2</td>\n",
       "      <td>1</td>\n",
       "      <td>3</td>\n",
       "      <td>5</td>\n",
       "      <td>3</td>\n",
       "      <td>1</td>\n",
       "      <td>4</td>\n",
       "      <td>4</td>\n",
       "      <td>...</td>\n",
       "      <td>4</td>\n",
       "      <td>8</td>\n",
       "      <td>2</td>\n",
       "      <td>4</td>\n",
       "      <td>1</td>\n",
       "      <td>3</td>\n",
       "      <td>2</td>\n",
       "      <td>7</td>\n",
       "      <td>2</td>\n",
       "      <td>2</td>\n",
       "    </tr>\n",
       "    <tr>\n",
       "      <th>2024-02-01</th>\n",
       "      <td>3246</td>\n",
       "      <td>2989</td>\n",
       "      <td>2359</td>\n",
       "      <td>2026</td>\n",
       "      <td>2344</td>\n",
       "      <td>2364</td>\n",
       "      <td>2746</td>\n",
       "      <td>4647</td>\n",
       "      <td>4572</td>\n",
       "      <td>5705</td>\n",
       "      <td>...</td>\n",
       "      <td>3743</td>\n",
       "      <td>6204</td>\n",
       "      <td>2117</td>\n",
       "      <td>2618</td>\n",
       "      <td>3026</td>\n",
       "      <td>4812</td>\n",
       "      <td>2267</td>\n",
       "      <td>5821</td>\n",
       "      <td>2417</td>\n",
       "      <td>2720</td>\n",
       "    </tr>\n",
       "    <tr>\n",
       "      <th>2024-03-01</th>\n",
       "      <td>3377</td>\n",
       "      <td>3047</td>\n",
       "      <td>2336</td>\n",
       "      <td>2178</td>\n",
       "      <td>2362</td>\n",
       "      <td>2625</td>\n",
       "      <td>2374</td>\n",
       "      <td>5062</td>\n",
       "      <td>4696</td>\n",
       "      <td>5912</td>\n",
       "      <td>...</td>\n",
       "      <td>3730</td>\n",
       "      <td>6183</td>\n",
       "      <td>2328</td>\n",
       "      <td>2759</td>\n",
       "      <td>3204</td>\n",
       "      <td>5367</td>\n",
       "      <td>2299</td>\n",
       "      <td>6000</td>\n",
       "      <td>2521</td>\n",
       "      <td>2975</td>\n",
       "    </tr>\n",
       "  </tbody>\n",
       "</table>\n",
       "<p>4 rows × 30 columns</p>\n",
       "</div>"
      ],
      "text/plain": [
       "             amp   app  assistant  business  content  create  data  design  \\\n",
       "year_month                                                                   \n",
       "2023-12-01     1     0          0         0        0       1     1       1   \n",
       "2024-01-01     5     0          2         1        3       5     3       1   \n",
       "2024-02-01  3246  2989       2359      2026     2344    2364  2746    4647   \n",
       "2024-03-01  3377  3047       2336      2178     2362    2625  2374    5062   \n",
       "\n",
       "            designer  developer  ...  need  needed  project  social  \\\n",
       "year_month                       ...                                  \n",
       "2023-12-01         1          0  ...     1       0        0       0   \n",
       "2024-01-01         4          4  ...     4       8        2       4   \n",
       "2024-02-01      4572       5705  ...  3743    6204     2117    2618   \n",
       "2024-03-01      4696       5912  ...  3730    6183     2328    2759   \n",
       "\n",
       "            specialist  video   web  website  wordpress  youtube  \n",
       "year_month                                                        \n",
       "2023-12-01           1      1     0        0          0        0  \n",
       "2024-01-01           1      3     2        7          2        2  \n",
       "2024-02-01        3026   4812  2267     5821       2417     2720  \n",
       "2024-03-01        3204   5367  2299     6000       2521     2975  \n",
       "\n",
       "[4 rows x 30 columns]"
      ]
     },
     "execution_count": 234,
     "metadata": {},
     "output_type": "execute_result"
    }
   ],
   "source": [
    "trend_data"
   ]
  },
  {
   "cell_type": "markdown",
   "id": "176a87a7",
   "metadata": {},
   "source": [
    "##  Calculate growth from first to last month for each keyword ⬇️ ##"
   ]
  },
  {
   "cell_type": "code",
   "execution_count": 235,
   "id": "23037f06",
   "metadata": {},
   "outputs": [],
   "source": [
    "growth_df = (trend_data.iloc[-1] - trend_data.iloc[0]) / trend_data.iloc[0].replace(0, np.nan) * 100\n",
    "growth_df = growth_df.sort_values(ascending=False).dropna().round(1)"
   ]
  },
  {
   "cell_type": "code",
   "execution_count": 236,
   "id": "e0e03edf",
   "metadata": {},
   "outputs": [
    {
     "data": {
      "text/plain": [
       "video         536600.0\n",
       "design        506100.0\n",
       "designer      469500.0\n",
       "need          372900.0\n",
       "amp           337600.0\n",
       "specialist    320300.0\n",
       "marketing     302800.0\n",
       "create        262400.0\n",
       "data          237300.0\n",
       "dtype: float64"
      ]
     },
     "execution_count": 236,
     "metadata": {},
     "output_type": "execute_result"
    }
   ],
   "source": [
    "growth_df"
   ]
  },
  {
   "cell_type": "code",
   "execution_count": 237,
   "id": "c31049bb",
   "metadata": {},
   "outputs": [],
   "source": [
    "top_keywords = growth_df.head(10).index\n",
    "trend_top_keywords = trend_data[top_keywords]"
   ]
  },
  {
   "cell_type": "code",
   "execution_count": 238,
   "id": "31dd64f9",
   "metadata": {},
   "outputs": [
    {
     "data": {
      "text/html": [
       "<div>\n",
       "<style scoped>\n",
       "    .dataframe tbody tr th:only-of-type {\n",
       "        vertical-align: middle;\n",
       "    }\n",
       "\n",
       "    .dataframe tbody tr th {\n",
       "        vertical-align: top;\n",
       "    }\n",
       "\n",
       "    .dataframe thead th {\n",
       "        text-align: right;\n",
       "    }\n",
       "</style>\n",
       "<table border=\"1\" class=\"dataframe\">\n",
       "  <thead>\n",
       "    <tr style=\"text-align: right;\">\n",
       "      <th></th>\n",
       "      <th>video</th>\n",
       "      <th>design</th>\n",
       "      <th>designer</th>\n",
       "      <th>need</th>\n",
       "      <th>amp</th>\n",
       "      <th>specialist</th>\n",
       "      <th>marketing</th>\n",
       "      <th>create</th>\n",
       "      <th>data</th>\n",
       "    </tr>\n",
       "    <tr>\n",
       "      <th>year_month</th>\n",
       "      <th></th>\n",
       "      <th></th>\n",
       "      <th></th>\n",
       "      <th></th>\n",
       "      <th></th>\n",
       "      <th></th>\n",
       "      <th></th>\n",
       "      <th></th>\n",
       "      <th></th>\n",
       "    </tr>\n",
       "  </thead>\n",
       "  <tbody>\n",
       "    <tr>\n",
       "      <th>2023-12-01</th>\n",
       "      <td>1</td>\n",
       "      <td>1</td>\n",
       "      <td>1</td>\n",
       "      <td>1</td>\n",
       "      <td>1</td>\n",
       "      <td>1</td>\n",
       "      <td>1</td>\n",
       "      <td>1</td>\n",
       "      <td>1</td>\n",
       "    </tr>\n",
       "    <tr>\n",
       "      <th>2024-01-01</th>\n",
       "      <td>3</td>\n",
       "      <td>1</td>\n",
       "      <td>4</td>\n",
       "      <td>4</td>\n",
       "      <td>5</td>\n",
       "      <td>1</td>\n",
       "      <td>5</td>\n",
       "      <td>5</td>\n",
       "      <td>3</td>\n",
       "    </tr>\n",
       "    <tr>\n",
       "      <th>2024-02-01</th>\n",
       "      <td>4812</td>\n",
       "      <td>4647</td>\n",
       "      <td>4572</td>\n",
       "      <td>3743</td>\n",
       "      <td>3246</td>\n",
       "      <td>3026</td>\n",
       "      <td>2741</td>\n",
       "      <td>2364</td>\n",
       "      <td>2746</td>\n",
       "    </tr>\n",
       "    <tr>\n",
       "      <th>2024-03-01</th>\n",
       "      <td>5367</td>\n",
       "      <td>5062</td>\n",
       "      <td>4696</td>\n",
       "      <td>3730</td>\n",
       "      <td>3377</td>\n",
       "      <td>3204</td>\n",
       "      <td>3029</td>\n",
       "      <td>2625</td>\n",
       "      <td>2374</td>\n",
       "    </tr>\n",
       "  </tbody>\n",
       "</table>\n",
       "</div>"
      ],
      "text/plain": [
       "            video  design  designer  need   amp  specialist  marketing  \\\n",
       "year_month                                                               \n",
       "2023-12-01      1       1         1     1     1           1          1   \n",
       "2024-01-01      3       1         4     4     5           1          5   \n",
       "2024-02-01   4812    4647      4572  3743  3246        3026       2741   \n",
       "2024-03-01   5367    5062      4696  3730  3377        3204       3029   \n",
       "\n",
       "            create  data  \n",
       "year_month                \n",
       "2023-12-01       1     1  \n",
       "2024-01-01       5     3  \n",
       "2024-02-01    2364  2746  \n",
       "2024-03-01    2625  2374  "
      ]
     },
     "execution_count": 238,
     "metadata": {},
     "output_type": "execute_result"
    }
   ],
   "source": [
    "trend_top_keywords"
   ]
  },
  {
   "cell_type": "code",
   "execution_count": 239,
   "id": "1774158e",
   "metadata": {},
   "outputs": [
    {
     "name": "stderr",
     "output_type": "stream",
     "text": [
      "/var/folders/89/88_l7y257kd5mnk20gl6rm5m0000gn/T/ipykernel_5709/671810326.py:1: UserWarning:\n",
      "\n",
      "Converting to PeriodArray/Index representation will drop timezone information.\n",
      "\n",
      "/var/folders/89/88_l7y257kd5mnk20gl6rm5m0000gn/T/ipykernel_5709/671810326.py:1: SettingWithCopyWarning:\n",
      "\n",
      "\n",
      "A value is trying to be set on a copy of a slice from a DataFrame.\n",
      "Try using .loc[row_indexer,col_indexer] = value instead\n",
      "\n",
      "See the caveats in the documentation: https://pandas.pydata.org/pandas-docs/stable/user_guide/indexing.html#returning-a-view-versus-a-copy\n",
      "\n"
     ]
    }
   ],
   "source": [
    "df_cleaned['year_month'] = df_cleaned['published_date'].dt.to_period('M').astype(str)"
   ]
  },
  {
   "cell_type": "code",
   "execution_count": 240,
   "id": "25f096f8",
   "metadata": {},
   "outputs": [
    {
     "data": {
      "text/html": [
       "<div>\n",
       "<style scoped>\n",
       "    .dataframe tbody tr th:only-of-type {\n",
       "        vertical-align: middle;\n",
       "    }\n",
       "\n",
       "    .dataframe tbody tr th {\n",
       "        vertical-align: top;\n",
       "    }\n",
       "\n",
       "    .dataframe thead th {\n",
       "        text-align: right;\n",
       "    }\n",
       "</style>\n",
       "<table border=\"1\" class=\"dataframe\">\n",
       "  <thead>\n",
       "    <tr style=\"text-align: right;\">\n",
       "      <th></th>\n",
       "      <th>amp</th>\n",
       "      <th>app</th>\n",
       "      <th>assistant</th>\n",
       "      <th>business</th>\n",
       "      <th>content</th>\n",
       "      <th>create</th>\n",
       "      <th>data</th>\n",
       "      <th>design</th>\n",
       "      <th>designer</th>\n",
       "      <th>developer</th>\n",
       "      <th>...</th>\n",
       "      <th>need</th>\n",
       "      <th>needed</th>\n",
       "      <th>project</th>\n",
       "      <th>social</th>\n",
       "      <th>specialist</th>\n",
       "      <th>video</th>\n",
       "      <th>web</th>\n",
       "      <th>website</th>\n",
       "      <th>wordpress</th>\n",
       "      <th>youtube</th>\n",
       "    </tr>\n",
       "    <tr>\n",
       "      <th>year_month</th>\n",
       "      <th></th>\n",
       "      <th></th>\n",
       "      <th></th>\n",
       "      <th></th>\n",
       "      <th></th>\n",
       "      <th></th>\n",
       "      <th></th>\n",
       "      <th></th>\n",
       "      <th></th>\n",
       "      <th></th>\n",
       "      <th></th>\n",
       "      <th></th>\n",
       "      <th></th>\n",
       "      <th></th>\n",
       "      <th></th>\n",
       "      <th></th>\n",
       "      <th></th>\n",
       "      <th></th>\n",
       "      <th></th>\n",
       "      <th></th>\n",
       "      <th></th>\n",
       "    </tr>\n",
       "  </thead>\n",
       "  <tbody>\n",
       "    <tr>\n",
       "      <th>2023-12-01</th>\n",
       "      <td>1</td>\n",
       "      <td>0</td>\n",
       "      <td>0</td>\n",
       "      <td>0</td>\n",
       "      <td>0</td>\n",
       "      <td>1</td>\n",
       "      <td>1</td>\n",
       "      <td>1</td>\n",
       "      <td>1</td>\n",
       "      <td>0</td>\n",
       "      <td>...</td>\n",
       "      <td>1</td>\n",
       "      <td>0</td>\n",
       "      <td>0</td>\n",
       "      <td>0</td>\n",
       "      <td>1</td>\n",
       "      <td>1</td>\n",
       "      <td>0</td>\n",
       "      <td>0</td>\n",
       "      <td>0</td>\n",
       "      <td>0</td>\n",
       "    </tr>\n",
       "    <tr>\n",
       "      <th>2024-01-01</th>\n",
       "      <td>5</td>\n",
       "      <td>0</td>\n",
       "      <td>2</td>\n",
       "      <td>1</td>\n",
       "      <td>3</td>\n",
       "      <td>5</td>\n",
       "      <td>3</td>\n",
       "      <td>1</td>\n",
       "      <td>4</td>\n",
       "      <td>4</td>\n",
       "      <td>...</td>\n",
       "      <td>4</td>\n",
       "      <td>8</td>\n",
       "      <td>2</td>\n",
       "      <td>4</td>\n",
       "      <td>1</td>\n",
       "      <td>3</td>\n",
       "      <td>2</td>\n",
       "      <td>7</td>\n",
       "      <td>2</td>\n",
       "      <td>2</td>\n",
       "    </tr>\n",
       "    <tr>\n",
       "      <th>2024-02-01</th>\n",
       "      <td>3246</td>\n",
       "      <td>2989</td>\n",
       "      <td>2359</td>\n",
       "      <td>2026</td>\n",
       "      <td>2344</td>\n",
       "      <td>2364</td>\n",
       "      <td>2746</td>\n",
       "      <td>4647</td>\n",
       "      <td>4572</td>\n",
       "      <td>5705</td>\n",
       "      <td>...</td>\n",
       "      <td>3743</td>\n",
       "      <td>6204</td>\n",
       "      <td>2117</td>\n",
       "      <td>2618</td>\n",
       "      <td>3026</td>\n",
       "      <td>4812</td>\n",
       "      <td>2267</td>\n",
       "      <td>5821</td>\n",
       "      <td>2417</td>\n",
       "      <td>2720</td>\n",
       "    </tr>\n",
       "    <tr>\n",
       "      <th>2024-03-01</th>\n",
       "      <td>3377</td>\n",
       "      <td>3047</td>\n",
       "      <td>2336</td>\n",
       "      <td>2178</td>\n",
       "      <td>2362</td>\n",
       "      <td>2625</td>\n",
       "      <td>2374</td>\n",
       "      <td>5062</td>\n",
       "      <td>4696</td>\n",
       "      <td>5912</td>\n",
       "      <td>...</td>\n",
       "      <td>3730</td>\n",
       "      <td>6183</td>\n",
       "      <td>2328</td>\n",
       "      <td>2759</td>\n",
       "      <td>3204</td>\n",
       "      <td>5367</td>\n",
       "      <td>2299</td>\n",
       "      <td>6000</td>\n",
       "      <td>2521</td>\n",
       "      <td>2975</td>\n",
       "    </tr>\n",
       "  </tbody>\n",
       "</table>\n",
       "<p>4 rows × 30 columns</p>\n",
       "</div>"
      ],
      "text/plain": [
       "             amp   app  assistant  business  content  create  data  design  \\\n",
       "year_month                                                                   \n",
       "2023-12-01     1     0          0         0        0       1     1       1   \n",
       "2024-01-01     5     0          2         1        3       5     3       1   \n",
       "2024-02-01  3246  2989       2359      2026     2344    2364  2746    4647   \n",
       "2024-03-01  3377  3047       2336      2178     2362    2625  2374    5062   \n",
       "\n",
       "            designer  developer  ...  need  needed  project  social  \\\n",
       "year_month                       ...                                  \n",
       "2023-12-01         1          0  ...     1       0        0       0   \n",
       "2024-01-01         4          4  ...     4       8        2       4   \n",
       "2024-02-01      4572       5705  ...  3743    6204     2117    2618   \n",
       "2024-03-01      4696       5912  ...  3730    6183     2328    2759   \n",
       "\n",
       "            specialist  video   web  website  wordpress  youtube  \n",
       "year_month                                                        \n",
       "2023-12-01           1      1     0        0          0        0  \n",
       "2024-01-01           1      3     2        7          2        2  \n",
       "2024-02-01        3026   4812  2267     5821       2417     2720  \n",
       "2024-03-01        3204   5367  2299     6000       2521     2975  \n",
       "\n",
       "[4 rows x 30 columns]"
      ]
     },
     "execution_count": 240,
     "metadata": {},
     "output_type": "execute_result"
    }
   ],
   "source": [
    "trend_data"
   ]
  },
  {
   "cell_type": "code",
   "execution_count": 241,
   "id": "d911a5d8",
   "metadata": {},
   "outputs": [
    {
     "data": {
      "text/plain": [
       "Index(['amp', 'app', 'assistant', 'business', 'content', 'create', 'data',\n",
       "       'design', 'designer', 'developer', 'development', 'editor', 'expert',\n",
       "       'google', 'graphic', 'logo', 'looking', 'manager', 'marketing', 'media',\n",
       "       'need', 'needed', 'project', 'social', 'specialist', 'video', 'web',\n",
       "       'website', 'wordpress', 'youtube'],\n",
       "      dtype='object')"
      ]
     },
     "execution_count": 241,
     "metadata": {},
     "output_type": "execute_result"
    }
   ],
   "source": [
    "trend_data.columns"
   ]
  },
  {
   "cell_type": "markdown",
   "id": "b103799b",
   "metadata": {},
   "source": [
    "## Job Role Demand Forecasting with Prophet ⬇️ ##"
   ]
  },
  {
   "cell_type": "code",
   "execution_count": 242,
   "id": "d396f792",
   "metadata": {},
   "outputs": [],
   "source": [
    "trend_df = keyword_df.groupby('year_month').sum().reset_index()"
   ]
  },
  {
   "cell_type": "code",
   "execution_count": 243,
   "id": "c2225ce0",
   "metadata": {},
   "outputs": [],
   "source": [
    "keyword_to_forecast = 'developer'  \n",
    "df_forecast = trend_df[['year_month', keyword_to_forecast]].copy()\n",
    "df_forecast.columns = ['ds', 'y']\n",
    "df_forecast['ds'] = pd.to_datetime(df_forecast['ds'])\n"
   ]
  },
  {
   "cell_type": "code",
   "execution_count": 244,
   "id": "b8e185fe",
   "metadata": {},
   "outputs": [],
   "source": [
    "keywords = trend_df.columns.drop('year_month')\n",
    "forecast_periods = 3\n"
   ]
  },
  {
   "cell_type": "code",
   "execution_count": 245,
   "id": "50889f57",
   "metadata": {},
   "outputs": [],
   "source": [
    "all_forecasts = {}\n",
    "\n",
    "for keyword  in keywords:\n",
    "\n",
    "    df_forecast = trend_df[['year_month', keyword]].copy()\n",
    "    df_forecast.columns = ['ds', 'y']\n",
    "\n",
    "    if df_forecast['y'].sum() == 0:\n",
    "        continue\n"
   ]
  },
  {
   "cell_type": "code",
   "execution_count": 246,
   "id": "500cb550",
   "metadata": {},
   "outputs": [],
   "source": [
    "from prophet import Prophet\n"
   ]
  },
  {
   "cell_type": "code",
   "execution_count": 247,
   "id": "243f28d1",
   "metadata": {},
   "outputs": [
    {
     "name": "stderr",
     "output_type": "stream",
     "text": [
      "16:06:51 - cmdstanpy - INFO - Chain [1] start processing\n",
      "16:06:52 - cmdstanpy - INFO - Chain [1] done processing\n"
     ]
    },
    {
     "data": {
      "text/plain": [
       "<prophet.forecaster.Prophet at 0x14c161d10>"
      ]
     },
     "execution_count": 247,
     "metadata": {},
     "output_type": "execute_result"
    }
   ],
   "source": [
    "model = Prophet()\n",
    "model.fit(df_forecast)"
   ]
  },
  {
   "cell_type": "code",
   "execution_count": 248,
   "id": "58facba1",
   "metadata": {},
   "outputs": [],
   "source": [
    "future = model.make_future_dataframe(periods=forecast_periods, freq='M')\n",
    "forecast = model.predict(future)"
   ]
  },
  {
   "cell_type": "code",
   "execution_count": 249,
   "id": "699266bc",
   "metadata": {},
   "outputs": [
    {
     "data": {
      "text/plain": [
       "<Figure size 800x400 with 0 Axes>"
      ]
     },
     "metadata": {},
     "output_type": "display_data"
    },
    {
     "data": {
      "image/png": "[encoded data removed]",
      "text/plain": [
       "<Figure size 1000x600 with 1 Axes>"
      ]
     },
     "metadata": {},
     "output_type": "display_data"
    }
   ],
   "source": [
    "plt.figure(figsize=(8, 4))\n",
    "model.plot(forecast)\n",
    "plt.title(f\"Forecast for keyword: {keyword}\")\n",
    "plt.xlabel(\"Date\")\n",
    "plt.ylabel(\"Job Postings\")\n",
    "plt.tight_layout()\n",
    "plt.show()"
   ]
  },
  {
   "cell_type": "code",
   "execution_count": 274,
   "id": "ce15ca93",
   "metadata": {},
   "outputs": [],
   "source": [
    "correlations = keywords_df.corr()['normalized_salary'].drop('normalized_salary')\n",
    "correlations = correlations.sort_values(ascending=False)"
   ]
  },
  {
   "cell_type": "code",
   "execution_count": 276,
   "id": "4d0100c9",
   "metadata": {},
   "outputs": [
    {
     "data": {
      "image/png": "[encoded data removed]",
      "text/plain": [
       "<Figure size 1000x600 with 1 Axes>"
      ]
     },
     "metadata": {},
     "output_type": "display_data"
    }
   ],
   "source": [
    "plt.figure(figsize=(10, 6))\n",
    "sns.barplot(x=correlations.values, y=correlations.index, palette='viridis')\n",
    "plt.title('Correlation Between Title Keywords and Salary')\n",
    "plt.xlabel('Correlation with Salary')\n",
    "plt.ylabel('Keyword')\n",
    "plt.tight_layout()\n",
    "plt.show()"
   ]
  },
  {
   "cell_type": "markdown",
   "id": "35398fb8",
   "metadata": {},
   "source": [
    "## Task 4 ##"
   ]
  },
  {
   "cell_type": "code",
   "execution_count": 250,
   "id": "e16001e2",
   "metadata": {},
   "outputs": [],
   "source": [
    "import plotly.express as px"
   ]
  },
  {
   "cell_type": "code",
   "execution_count": 251,
   "id": "03bd554c",
   "metadata": {},
   "outputs": [
    {
     "name": "stderr",
     "output_type": "stream",
     "text": [
      "/var/folders/89/88_l7y257kd5mnk20gl6rm5m0000gn/T/ipykernel_5709/1724688736.py:1: SettingWithCopyWarning:\n",
      "\n",
      "\n",
      "A value is trying to be set on a copy of a slice from a DataFrame.\n",
      "Try using .loc[row_indexer,col_indexer] = value instead\n",
      "\n",
      "See the caveats in the documentation: https://pandas.pydata.org/pandas-docs/stable/user_guide/indexing.html#returning-a-view-versus-a-copy\n",
      "\n",
      "/var/folders/89/88_l7y257kd5mnk20gl6rm5m0000gn/T/ipykernel_5709/1724688736.py:2: SettingWithCopyWarning:\n",
      "\n",
      "\n",
      "A value is trying to be set on a copy of a slice from a DataFrame.\n",
      "Try using .loc[row_indexer,col_indexer] = value instead\n",
      "\n",
      "See the caveats in the documentation: https://pandas.pydata.org/pandas-docs/stable/user_guide/indexing.html#returning-a-view-versus-a-copy\n",
      "\n"
     ]
    }
   ],
   "source": [
    "df_cleaned['hourly_low'] = pd.to_numeric(df_cleaned['hourly_low'], errors='coerce')\n",
    "df_cleaned['hourly_high'] = pd.to_numeric(df_cleaned['hourly_high'], errors='coerce')"
   ]
  },
  {
   "cell_type": "code",
   "execution_count": 252,
   "id": "444abd41",
   "metadata": {},
   "outputs": [],
   "source": [
    "hourly_jobs = df_cleaned[df_cleaned['is_hourly'] == True].copy()\n",
    "hourly_jobs = hourly_jobs[(hourly_jobs['hourly_low']>0) & (hourly_jobs['hourly_high']>0)]"
   ]
  },
  {
   "cell_type": "code",
   "execution_count": 253,
   "id": "b234837c",
   "metadata": {},
   "outputs": [
    {
     "name": "stderr",
     "output_type": "stream",
     "text": [
      "/var/folders/89/88_l7y257kd5mnk20gl6rm5m0000gn/T/ipykernel_5709/1525364665.py:1: SettingWithCopyWarning:\n",
      "\n",
      "\n",
      "A value is trying to be set on a copy of a slice from a DataFrame.\n",
      "Try using .loc[row_indexer,col_indexer] = value instead\n",
      "\n",
      "See the caveats in the documentation: https://pandas.pydata.org/pandas-docs/stable/user_guide/indexing.html#returning-a-view-versus-a-copy\n",
      "\n"
     ]
    }
   ],
   "source": [
    "df_cleaned['average_hourly'] = (df_cleaned['hourly_low'] + df['hourly_high']) / 2"
   ]
  },
  {
   "cell_type": "code",
   "execution_count": 254,
   "id": "62bbb056",
   "metadata": {},
   "outputs": [],
   "source": [
    "country_rates = df_cleaned.groupby('country')['average_hourly'].mean().reset_index()\n"
   ]
  },
  {
   "cell_type": "code",
   "execution_count": 255,
   "id": "4e622dc7",
   "metadata": {},
   "outputs": [
    {
     "data": {
      "text/html": [
       "<div>\n",
       "<style scoped>\n",
       "    .dataframe tbody tr th:only-of-type {\n",
       "        vertical-align: middle;\n",
       "    }\n",
       "\n",
       "    .dataframe tbody tr th {\n",
       "        vertical-align: top;\n",
       "    }\n",
       "\n",
       "    .dataframe thead th {\n",
       "        text-align: right;\n",
       "    }\n",
       "</style>\n",
       "<table border=\"1\" class=\"dataframe\">\n",
       "  <thead>\n",
       "    <tr style=\"text-align: right;\">\n",
       "      <th></th>\n",
       "      <th>country</th>\n",
       "      <th>average_hourly</th>\n",
       "    </tr>\n",
       "  </thead>\n",
       "  <tbody>\n",
       "    <tr>\n",
       "      <th>0</th>\n",
       "      <td>Aland Islands</td>\n",
       "      <td>NaN</td>\n",
       "    </tr>\n",
       "    <tr>\n",
       "      <th>1</th>\n",
       "      <td>Albania</td>\n",
       "      <td>27.476744</td>\n",
       "    </tr>\n",
       "    <tr>\n",
       "      <th>2</th>\n",
       "      <td>Algeria</td>\n",
       "      <td>22.040541</td>\n",
       "    </tr>\n",
       "    <tr>\n",
       "      <th>3</th>\n",
       "      <td>American Samoa</td>\n",
       "      <td>18.000000</td>\n",
       "    </tr>\n",
       "    <tr>\n",
       "      <th>4</th>\n",
       "      <td>Andorra</td>\n",
       "      <td>33.000000</td>\n",
       "    </tr>\n",
       "    <tr>\n",
       "      <th>...</th>\n",
       "      <td>...</td>\n",
       "      <td>...</td>\n",
       "    </tr>\n",
       "    <tr>\n",
       "      <th>204</th>\n",
       "      <td>Venezuela</td>\n",
       "      <td>19.674603</td>\n",
       "    </tr>\n",
       "    <tr>\n",
       "      <th>205</th>\n",
       "      <td>Vietnam</td>\n",
       "      <td>30.368000</td>\n",
       "    </tr>\n",
       "    <tr>\n",
       "      <th>206</th>\n",
       "      <td>Yemen</td>\n",
       "      <td>22.500000</td>\n",
       "    </tr>\n",
       "    <tr>\n",
       "      <th>207</th>\n",
       "      <td>Zambia</td>\n",
       "      <td>40.190476</td>\n",
       "    </tr>\n",
       "    <tr>\n",
       "      <th>208</th>\n",
       "      <td>Zimbabwe</td>\n",
       "      <td>23.692308</td>\n",
       "    </tr>\n",
       "  </tbody>\n",
       "</table>\n",
       "<p>209 rows × 2 columns</p>\n",
       "</div>"
      ],
      "text/plain": [
       "            country  average_hourly\n",
       "0     Aland Islands             NaN\n",
       "1           Albania       27.476744\n",
       "2           Algeria       22.040541\n",
       "3    American Samoa       18.000000\n",
       "4           Andorra       33.000000\n",
       "..              ...             ...\n",
       "204       Venezuela       19.674603\n",
       "205         Vietnam       30.368000\n",
       "206           Yemen       22.500000\n",
       "207          Zambia       40.190476\n",
       "208        Zimbabwe       23.692308\n",
       "\n",
       "[209 rows x 2 columns]"
      ]
     },
     "execution_count": 255,
     "metadata": {},
     "output_type": "execute_result"
    }
   ],
   "source": [
    "country_rates"
   ]
  },
  {
   "cell_type": "code",
   "execution_count": 256,
   "id": "1a29c6f5",
   "metadata": {},
   "outputs": [],
   "source": [
    "hourly_jobs = df_cleaned[df_cleaned['is_hourly'] == True].copy()\n",
    "hourly_jobs = hourly_jobs[(hourly_jobs['hourly_low']>0) & (hourly_jobs['hourly_high']>0)]"
   ]
  },
  {
   "cell_type": "code",
   "execution_count": 257,
   "id": "a3c0df9e",
   "metadata": {},
   "outputs": [],
   "source": [
    "top_countries_hourly = hourly_jobs['country'].value_counts().head(10).reset_index()"
   ]
  },
  {
   "cell_type": "code",
   "execution_count": 258,
   "id": "30520e86",
   "metadata": {},
   "outputs": [
    {
     "data": {
      "text/html": [
       "<div>\n",
       "<style scoped>\n",
       "    .dataframe tbody tr th:only-of-type {\n",
       "        vertical-align: middle;\n",
       "    }\n",
       "\n",
       "    .dataframe tbody tr th {\n",
       "        vertical-align: top;\n",
       "    }\n",
       "\n",
       "    .dataframe thead th {\n",
       "        text-align: right;\n",
       "    }\n",
       "</style>\n",
       "<table border=\"1\" class=\"dataframe\">\n",
       "  <thead>\n",
       "    <tr style=\"text-align: right;\">\n",
       "      <th></th>\n",
       "      <th>country</th>\n",
       "      <th>count</th>\n",
       "    </tr>\n",
       "  </thead>\n",
       "  <tbody>\n",
       "    <tr>\n",
       "      <th>0</th>\n",
       "      <td>United States</td>\n",
       "      <td>46620</td>\n",
       "    </tr>\n",
       "    <tr>\n",
       "      <th>1</th>\n",
       "      <td>United Kingdom</td>\n",
       "      <td>8113</td>\n",
       "    </tr>\n",
       "    <tr>\n",
       "      <th>2</th>\n",
       "      <td>Australia</td>\n",
       "      <td>5682</td>\n",
       "    </tr>\n",
       "    <tr>\n",
       "      <th>3</th>\n",
       "      <td>Canada</td>\n",
       "      <td>5054</td>\n",
       "    </tr>\n",
       "    <tr>\n",
       "      <th>4</th>\n",
       "      <td>India</td>\n",
       "      <td>4337</td>\n",
       "    </tr>\n",
       "    <tr>\n",
       "      <th>5</th>\n",
       "      <td>Germany</td>\n",
       "      <td>2022</td>\n",
       "    </tr>\n",
       "    <tr>\n",
       "      <th>6</th>\n",
       "      <td>Unknown</td>\n",
       "      <td>1950</td>\n",
       "    </tr>\n",
       "    <tr>\n",
       "      <th>7</th>\n",
       "      <td>Netherlands</td>\n",
       "      <td>1554</td>\n",
       "    </tr>\n",
       "    <tr>\n",
       "      <th>8</th>\n",
       "      <td>Pakistan</td>\n",
       "      <td>1379</td>\n",
       "    </tr>\n",
       "    <tr>\n",
       "      <th>9</th>\n",
       "      <td>United Arab Emirates</td>\n",
       "      <td>1227</td>\n",
       "    </tr>\n",
       "  </tbody>\n",
       "</table>\n",
       "</div>"
      ],
      "text/plain": [
       "                country  count\n",
       "0         United States  46620\n",
       "1        United Kingdom   8113\n",
       "2             Australia   5682\n",
       "3                Canada   5054\n",
       "4                 India   4337\n",
       "5               Germany   2022\n",
       "6               Unknown   1950\n",
       "7           Netherlands   1554\n",
       "8              Pakistan   1379\n",
       "9  United Arab Emirates   1227"
      ]
     },
     "execution_count": 258,
     "metadata": {},
     "output_type": "execute_result"
    }
   ],
   "source": [
    "top_countries_hourly"
   ]
  },
  {
   "cell_type": "markdown",
   "id": "08b5ac1d",
   "metadata": {},
   "source": [
    "## Plot using Plotly choropleth ##"
   ]
  },
  {
   "cell_type": "code",
   "execution_count": 259,
   "id": "6f464f04",
   "metadata": {},
   "outputs": [
    {
     "data": {
      "application/vnd.plotly.v1+json": {
       "config": {
        "plotlyServerURL": "https://plot.ly"
       },
       "data": [
        {
         "coloraxis": "coloraxis",
         "geo": "geo",
         "hovertemplate": "country=%{location}<br>average_hourly=%{z}<extra></extra>",
         "locationmode": "country names",
         "locations": [
          "Aland Islands",
          "Albania",
          "Algeria",
          "American Samoa",
          "Andorra",
          "Angola",
          "Anguilla",
          "Antigua and Barbuda",
          "Argentina",
          "Armenia",
          "Aruba",
          "Australia",
          "Austria",
          "Azerbaijan",
          "Bahamas",
          "Bahrain",
          "Bangladesh",
          "Barbados",
          "Belarus",
          "Belgium",
          "Belize",
          "Benin",
          "Bermuda",
          "Bhutan",
          "Bolivia",
          "Bonaire, Sint Eustatius and Saba",
          "Bosnia and Herzegovina",
          "Botswana",
          "Brazil",
          "British Virgin Islands",
          "Brunei Darussalam",
          "Bulgaria",
          "Burundi",
          "Cambodia",
          "Cameroon",
          "Canada",
          "Cayman Islands",
          "Central African Republic",
          "Chad",
          "Chile",
          "China",
          "Cocos (Keeling) Islands",
          "Colombia",
          "Congo",
          "Congo, the Democratic Republic of the",
          "Costa Rica",
          "Cote d&#039;Ivoire",
          "Croatia",
          "Curacao",
          "Cyprus",
          "Czech Republic",
          "Denmark",
          "Djibouti",
          "Dominica",
          "Dominican Republic",
          "Ecuador",
          "Egypt",
          "El Salvador",
          "Eritrea",
          "Estonia",
          "Ethiopia",
          "Faroe Islands",
          "Fiji",
          "Finland",
          "France",
          "French Guiana",
          "French Polynesia",
          "Gabon",
          "Gambia",
          "Georgia",
          "Germany",
          "Ghana",
          "Gibraltar",
          "Greece",
          "Greenland",
          "Grenada",
          "Guadeloupe",
          "Guam",
          "Guatemala",
          "Guernsey",
          "Guinea",
          "Guyana",
          "Haiti",
          "Holy See",
          "Honduras",
          "Hong Kong",
          "Hungary",
          "Iceland",
          "India",
          "Indonesia",
          "Ireland",
          "Isle of Man",
          "Israel",
          "Italy",
          "Jamaica",
          "Japan",
          "Jersey",
          "Jordan",
          "Kazakhstan",
          "Kenya",
          "Kiribati",
          "Kuwait",
          "Kyrgyzstan",
          "Laos",
          "Latvia",
          "Lebanon",
          "Liechtenstein",
          "Lithuania",
          "Luxembourg",
          "Macao",
          "Macedonia",
          "Madagascar",
          "Malawi",
          "Malaysia",
          "Maldives",
          "Mali",
          "Malta",
          "Martinique",
          "Mauritania",
          "Mauritius",
          "Mexico",
          "Micronesia, Federated States of",
          "Moldova",
          "Monaco",
          "Mongolia",
          "Montenegro",
          "Morocco",
          "Mozambique",
          "Myanmar",
          "Namibia",
          "Nepal",
          "Netherlands",
          "Netherlands Antilles",
          "New Caledonia",
          "New Zealand",
          "Nicaragua",
          "Niger",
          "Nigeria",
          "Niue",
          "Northern Mariana Islands",
          "Norway",
          "Oman",
          "Pakistan",
          "Palau",
          "Palestinian Territories",
          "Panama",
          "Papua New Guinea",
          "Paraguay",
          "Peru",
          "Philippines",
          "Poland",
          "Portugal",
          "Puerto Rico",
          "Qatar",
          "Reunion",
          "Romania",
          "Russia",
          "Rwanda",
          "Saint Helena",
          "Saint Kitts and Nevis",
          "Saint Lucia",
          "Saint Vincent and the Grenadines",
          "San Marino",
          "Saudi Arabia",
          "Senegal",
          "Serbia",
          "Seychelles",
          "Sierra Leone",
          "Singapore",
          "Sint Maarten (Dutch part)",
          "Slovakia",
          "Slovenia",
          "Somalia",
          "South Africa",
          "South Korea",
          "Spain",
          "Sri Lanka",
          "Suriname",
          "Swaziland",
          "Sweden",
          "Switzerland",
          "Taiwan",
          "Tajikistan",
          "Tanzania",
          "Thailand",
          "Timor-Leste",
          "Togo",
          "Trinidad and Tobago",
          "Tunisia",
          "Turkey",
          "Turkmenistan",
          "Turks and Caicos Islands",
          "Tuvalu",
          "Uganda",
          "Ukraine",
          "United Arab Emirates",
          "United Kingdom",
          "United States",
          "United States Minor Outlying Islands",
          "United States Virgin Islands",
          "Unknown",
          "Uruguay",
          "Uzbekistan",
          "Vanuatu",
          "Venezuela",
          "Vietnam",
          "Yemen",
          "Zambia",
          "Zimbabwe"
         ],
         "name": "",
         "type": "choropleth",
         "z": [
          null,
          27.476744186046513,
          22.04054054054054,
          18,
          33,
          30.666666666666668,
          null,
          21.5,
          29.678321678321677,
          25.035714285714285,
          10.0625,
          24.46066525871172,
          26.17081850533808,
          35.34782608695652,
          15.772727272727273,
          27.693548387096776,
          31.315825375170533,
          32.75,
          null,
          29.758992805755394,
          24.583333333333332,
          20.75,
          21.125,
          29,
          12.357142857142858,
          null,
          28.64864864864865,
          28.7,
          27.086633663366335,
          40.22222222222222,
          11.142857142857142,
          26.72222222222222,
          20,
          12.333333333333334,
          23,
          26.903146022952118,
          34.28125,
          5,
          null,
          29.51063829787234,
          30.7544080604534,
          25,
          31.257322175732217,
          27.5,
          23.75,
          24.62676056338028,
          23.25,
          19.474358974358974,
          31,
          31.8875,
          28.951612903225808,
          29.776412776412776,
          10,
          25,
          19.86111111111111,
          30.486486486486488,
          29.879310344827587,
          21.3,
          100,
          25.35609756097561,
          29.956043956043956,
          null,
          12.5,
          23.978125,
          26.083676834295137,
          34,
          13.666666666666666,
          20,
          null,
          26.25,
          27.655539070227498,
          15.431818181818182,
          33.22222222222222,
          27.71283783783784,
          null,
          29.125,
          8.25,
          22.5,
          31.32608695652174,
          19.214285714285715,
          26,
          27.75,
          29,
          17.5,
          20.805555555555557,
          25.700488997555013,
          32.317567567567565,
          22.74137931034483,
          23.677080931519484,
          29.87772925764192,
          26.996969696969696,
          37.666666666666664,
          27.21076523994812,
          26.86706349206349,
          25.928571428571427,
          21.991869918699187,
          31.541666666666668,
          36.154545454545456,
          32.68181818181818,
          31.823248407643312,
          20,
          27.098484848484848,
          22.875,
          201.33333333333334,
          32.39150943396226,
          22.990654205607477,
          41.25,
          29.182692307692307,
          26.44047619047619,
          8.75,
          25.976923076923075,
          26.6875,
          75.5,
          48.10307692307693,
          15,
          25.5,
          24.406976744186046,
          null,
          21,
          23.083333333333332,
          25.06574394463668,
          37.5,
          27.6875,
          26.285714285714285,
          26.15,
          24.96551724137931,
          27.381294964028775,
          19.75,
          33.416666666666664,
          18.38888888888889,
          27.646551724137932,
          23.825933075933076,
          61.25,
          null,
          24.336309523809526,
          17.833333333333332,
          16.5,
          27.50735294117647,
          null,
          17.5,
          28.50371747211896,
          29.928571428571427,
          24.983683828861494,
          null,
          26.394736842105264,
          23.78125,
          21.333333333333332,
          25.833333333333332,
          22.197674418604652,
          30.54988913525499,
          28.183168316831683,
          24.834763948497855,
          28.406976744186046,
          24.41025641025641,
          17,
          25.34722222222222,
          21.5,
          27.291666666666668,
          null,
          20.25,
          13.375,
          20.666666666666668,
          25,
          29.765060240963855,
          28.4375,
          23.1,
          19.73076923076923,
          22.5,
          25.427458033573142,
          16.666666666666668,
          25.316326530612244,
          21.986725663716815,
          21.428571428571427,
          26.88082901554404,
          15.444444444444445,
          25.62642487046632,
          19.45,
          null,
          21.5,
          28.55851063829787,
          26.712362301101592,
          15.962264150943396,
          null,
          28.36842105263158,
          42.20557491289198,
          25,
          19.5,
          22.653846153846153,
          25.09259259259259,
          26.693460490463217,
          null,
          46.625,
          null,
          28.394736842105264,
          30.327768014059753,
          26.985737571312143,
          29.49013928263281,
          32.58248605748606,
          15,
          34,
          30.31282051282051,
          29.314814814814813,
          21.414634146341463,
          6.5,
          19.674603174603174,
          30.368,
          22.5,
          40.19047619047619,
          23.692307692307693
         ]
        }
       ],
       "layout": {
        "coloraxis": {
         "colorbar": {
          "title": {
           "text": "average_hourly"
          }
         },
         "colorscale": [
          [
           0,
           "#440154"
          ],
          [
           0.1111111111111111,
           "#482878"
          ],
          [
           0.2222222222222222,
           "#3e4989"
          ],
          [
           0.3333333333333333,
           "#31688e"
          ],
          [
           0.4444444444444444,
           "#26828e"
          ],
          [
           0.5555555555555556,
           "#1f9e89"
          ],
          [
           0.6666666666666666,
           "#35b779"
          ],
          [
           0.7777777777777778,
           "#6ece58"
          ],
          [
           0.8888888888888888,
           "#b5de2b"
          ],
          [
           1,
           "#fde725"
          ]
         ]
        },
        "geo": {
         "center": {},
         "domain": {
          "x": [
           0,
           1
          ],
          "y": [
           0,
           1
          ]
         },
         "showcoastlines": false,
         "showframe": false
        },
        "legend": {
         "tracegroupgap": 0
        },
        "template": {
         "data": {
          "bar": [
           {
            "error_x": {
             "color": "#2a3f5f"
            },
            "error_y": {
             "color": "#2a3f5f"
            },
            "marker": {
             "line": {
              "color": "#E5ECF6",
              "width": 0.5
             },
             "pattern": {
              "fillmode": "overlay",
              "size": 10,
              "solidity": 0.2
             }
            },
            "type": "bar"
           }
          ],
          "barpolar": [
           {
            "marker": {
             "line": {
              "color": "#E5ECF6",
              "width": 0.5
             },
             "pattern": {
              "fillmode": "overlay",
              "size": 10,
              "solidity": 0.2
             }
            },
            "type": "barpolar"
           }
          ],
          "carpet": [
           {
            "aaxis": {
             "endlinecolor": "#2a3f5f",
             "gridcolor": "white",
             "linecolor": "white",
             "minorgridcolor": "white",
             "startlinecolor": "#2a3f5f"
            },
            "baxis": {
             "endlinecolor": "#2a3f5f",
             "gridcolor": "white",
             "linecolor": "white",
             "minorgridcolor": "white",
             "startlinecolor": "#2a3f5f"
            },
            "type": "carpet"
           }
          ],
          "choropleth": [
           {
            "colorbar": {
             "outlinewidth": 0,
             "ticks": ""
            },
            "type": "choropleth"
           }
          ],
          "contour": [
           {
            "colorbar": {
             "outlinewidth": 0,
             "ticks": ""
            },
            "colorscale": [
             [
              0,
              "#0d0887"
             ],
             [
              0.1111111111111111,
              "#46039f"
             ],
             [
              0.2222222222222222,
              "#7201a8"
             ],
             [
              0.3333333333333333,
              "#9c179e"
             ],
             [
              0.4444444444444444,
              "#bd3786"
             ],
             [
              0.5555555555555556,
              "#d8576b"
             ],
             [
              0.6666666666666666,
              "#ed7953"
             ],
             [
              0.7777777777777778,
              "#fb9f3a"
             ],
             [
              0.8888888888888888,
              "#fdca26"
             ],
             [
              1,
              "#f0f921"
             ]
            ],
            "type": "contour"
           }
          ],
          "contourcarpet": [
           {
            "colorbar": {
             "outlinewidth": 0,
             "ticks": ""
            },
            "type": "contourcarpet"
           }
          ],
          "heatmap": [
           {
            "colorbar": {
             "outlinewidth": 0,
             "ticks": ""
            },
            "colorscale": [
             [
              0,
              "#0d0887"
             ],
             [
              0.1111111111111111,
              "#46039f"
             ],
             [
              0.2222222222222222,
              "#7201a8"
             ],
             [
              0.3333333333333333,
              "#9c179e"
             ],
             [
              0.4444444444444444,
              "#bd3786"
             ],
             [
              0.5555555555555556,
              "#d8576b"
             ],
             [
              0.6666666666666666,
              "#ed7953"
             ],
             [
              0.7777777777777778,
              "#fb9f3a"
             ],
             [
              0.8888888888888888,
              "#fdca26"
             ],
             [
              1,
              "#f0f921"
             ]
            ],
            "type": "heatmap"
           }
          ],
          "heatmapgl": [
           {
            "colorbar": {
             "outlinewidth": 0,
             "ticks": ""
            },
            "colorscale": [
             [
              0,
              "#0d0887"
             ],
             [
              0.1111111111111111,
              "#46039f"
             ],
             [
              0.2222222222222222,
              "#7201a8"
             ],
             [
              0.3333333333333333,
              "#9c179e"
             ],
             [
              0.4444444444444444,
              "#bd3786"
             ],
             [
              0.5555555555555556,
              "#d8576b"
             ],
             [
              0.6666666666666666,
              "#ed7953"
             ],
             [
              0.7777777777777778,
              "#fb9f3a"
             ],
             [
              0.8888888888888888,
              "#fdca26"
             ],
             [
              1,
              "#f0f921"
             ]
            ],
            "type": "heatmapgl"
           }
          ],
          "histogram": [
           {
            "marker": {
             "pattern": {
              "fillmode": "overlay",
              "size": 10,
              "solidity": 0.2
             }
            },
            "type": "histogram"
           }
          ],
          "histogram2d": [
           {
            "colorbar": {
             "outlinewidth": 0,
             "ticks": ""
            },
            "colorscale": [
             [
              0,
              "#0d0887"
             ],
             [
              0.1111111111111111,
              "#46039f"
             ],
             [
              0.2222222222222222,
              "#7201a8"
             ],
             [
              0.3333333333333333,
              "#9c179e"
             ],
             [
              0.4444444444444444,
              "#bd3786"
             ],
             [
              0.5555555555555556,
              "#d8576b"
             ],
             [
              0.6666666666666666,
              "#ed7953"
             ],
             [
              0.7777777777777778,
              "#fb9f3a"
             ],
             [
              0.8888888888888888,
              "#fdca26"
             ],
             [
              1,
              "#f0f921"
             ]
            ],
            "type": "histogram2d"
           }
          ],
          "histogram2dcontour": [
           {
            "colorbar": {
             "outlinewidth": 0,
             "ticks": ""
            },
            "colorscale": [
             [
              0,
              "#0d0887"
             ],
             [
              0.1111111111111111,
              "#46039f"
             ],
             [
              0.2222222222222222,
              "#7201a8"
             ],
             [
              0.3333333333333333,
              "#9c179e"
             ],
             [
              0.4444444444444444,
              "#bd3786"
             ],
             [
              0.5555555555555556,
              "#d8576b"
             ],
             [
              0.6666666666666666,
              "#ed7953"
             ],
             [
              0.7777777777777778,
              "#fb9f3a"
             ],
             [
              0.8888888888888888,
              "#fdca26"
             ],
             [
              1,
              "#f0f921"
             ]
            ],
            "type": "histogram2dcontour"
           }
          ],
          "mesh3d": [
           {
            "colorbar": {
             "outlinewidth": 0,
             "ticks": ""
            },
            "type": "mesh3d"
           }
          ],
          "parcoords": [
           {
            "line": {
             "colorbar": {
              "outlinewidth": 0,
              "ticks": ""
             }
            },
            "type": "parcoords"
           }
          ],
          "pie": [
           {
            "automargin": true,
            "type": "pie"
           }
          ],
          "scatter": [
           {
            "fillpattern": {
             "fillmode": "overlay",
             "size": 10,
             "solidity": 0.2
            },
            "type": "scatter"
           }
          ],
          "scatter3d": [
           {
            "line": {
             "colorbar": {
              "outlinewidth": 0,
              "ticks": ""
             }
            },
            "marker": {
             "colorbar": {
              "outlinewidth": 0,
              "ticks": ""
             }
            },
            "type": "scatter3d"
           }
          ],
          "scattercarpet": [
           {
            "marker": {
             "colorbar": {
              "outlinewidth": 0,
              "ticks": ""
             }
            },
            "type": "scattercarpet"
           }
          ],
          "scattergeo": [
           {
            "marker": {
             "colorbar": {
              "outlinewidth": 0,
              "ticks": ""
             }
            },
            "type": "scattergeo"
           }
          ],
          "scattergl": [
           {
            "marker": {
             "colorbar": {
              "outlinewidth": 0,
              "ticks": ""
             }
            },
            "type": "scattergl"
           }
          ],
          "scattermapbox": [
           {
            "marker": {
             "colorbar": {
              "outlinewidth": 0,
              "ticks": ""
             }
            },
            "type": "scattermapbox"
           }
          ],
          "scatterpolar": [
           {
            "marker": {
             "colorbar": {
              "outlinewidth": 0,
              "ticks": ""
             }
            },
            "type": "scatterpolar"
           }
          ],
          "scatterpolargl": [
           {
            "marker": {
             "colorbar": {
              "outlinewidth": 0,
              "ticks": ""
             }
            },
            "type": "scatterpolargl"
           }
          ],
          "scatterternary": [
           {
            "marker": {
             "colorbar": {
              "outlinewidth": 0,
              "ticks": ""
             }
            },
            "type": "scatterternary"
           }
          ],
          "surface": [
           {
            "colorbar": {
             "outlinewidth": 0,
             "ticks": ""
            },
            "colorscale": [
             [
              0,
              "#0d0887"
             ],
             [
              0.1111111111111111,
              "#46039f"
             ],
             [
              0.2222222222222222,
              "#7201a8"
             ],
             [
              0.3333333333333333,
              "#9c179e"
             ],
             [
              0.4444444444444444,
              "#bd3786"
             ],
             [
              0.5555555555555556,
              "#d8576b"
             ],
             [
              0.6666666666666666,
              "#ed7953"
             ],
             [
              0.7777777777777778,
              "#fb9f3a"
             ],
             [
              0.8888888888888888,
              "#fdca26"
             ],
             [
              1,
              "#f0f921"
             ]
            ],
            "type": "surface"
           }
          ],
          "table": [
           {
            "cells": {
             "fill": {
              "color": "#EBF0F8"
             },
             "line": {
              "color": "white"
             }
            },
            "header": {
             "fill": {
              "color": "#C8D4E3"
             },
             "line": {
              "color": "white"
             }
            },
            "type": "table"
           }
          ]
         },
         "layout": {
          "annotationdefaults": {
           "arrowcolor": "#2a3f5f",
           "arrowhead": 0,
           "arrowwidth": 1
          },
          "autotypenumbers": "strict",
          "coloraxis": {
           "colorbar": {
            "outlinewidth": 0,
            "ticks": ""
           }
          },
          "colorscale": {
           "diverging": [
            [
             0,
             "#8e0152"
            ],
            [
             0.1,
             "#c51b7d"
            ],
            [
             0.2,
             "#de77ae"
            ],
            [
             0.3,
             "#f1b6da"
            ],
            [
             0.4,
             "#fde0ef"
            ],
            [
             0.5,
             "#f7f7f7"
            ],
            [
             0.6,
             "#e6f5d0"
            ],
            [
             0.7,
             "#b8e186"
            ],
            [
             0.8,
             "#7fbc41"
            ],
            [
             0.9,
             "#4d9221"
            ],
            [
             1,
             "#276419"
            ]
           ],
           "sequential": [
            [
             0,
             "#0d0887"
            ],
            [
             0.1111111111111111,
             "#46039f"
            ],
            [
             0.2222222222222222,
             "#7201a8"
            ],
            [
             0.3333333333333333,
             "#9c179e"
            ],
            [
             0.4444444444444444,
             "#bd3786"
            ],
            [
             0.5555555555555556,
             "#d8576b"
            ],
            [
             0.6666666666666666,
             "#ed7953"
            ],
            [
             0.7777777777777778,
             "#fb9f3a"
            ],
            [
             0.8888888888888888,
             "#fdca26"
            ],
            [
             1,
             "#f0f921"
            ]
           ],
           "sequentialminus": [
            [
             0,
             "#0d0887"
            ],
            [
             0.1111111111111111,
             "#46039f"
            ],
            [
             0.2222222222222222,
             "#7201a8"
            ],
            [
             0.3333333333333333,
             "#9c179e"
            ],
            [
             0.4444444444444444,
             "#bd3786"
            ],
            [
             0.5555555555555556,
             "#d8576b"
            ],
            [
             0.6666666666666666,
             "#ed7953"
            ],
            [
             0.7777777777777778,
             "#fb9f3a"
            ],
            [
             0.8888888888888888,
             "#fdca26"
            ],
            [
             1,
             "#f0f921"
            ]
           ]
          },
          "colorway": [
           "#636efa",
           "#EF553B",
           "#00cc96",
           "#ab63fa",
           "#FFA15A",
           "#19d3f3",
           "#FF6692",
           "#B6E880",
           "#FF97FF",
           "#FECB52"
          ],
          "font": {
           "color": "#2a3f5f"
          },
          "geo": {
           "bgcolor": "white",
           "lakecolor": "white",
           "landcolor": "#E5ECF6",
           "showlakes": true,
           "showland": true,
           "subunitcolor": "white"
          },
          "hoverlabel": {
           "align": "left"
          },
          "hovermode": "closest",
          "mapbox": {
           "style": "light"
          },
          "paper_bgcolor": "white",
          "plot_bgcolor": "#E5ECF6",
          "polar": {
           "angularaxis": {
            "gridcolor": "white",
            "linecolor": "white",
            "ticks": ""
           },
           "bgcolor": "#E5ECF6",
           "radialaxis": {
            "gridcolor": "white",
            "linecolor": "white",
            "ticks": ""
           }
          },
          "scene": {
           "xaxis": {
            "backgroundcolor": "#E5ECF6",
            "gridcolor": "white",
            "gridwidth": 2,
            "linecolor": "white",
            "showbackground": true,
            "ticks": "",
            "zerolinecolor": "white"
           },
           "yaxis": {
            "backgroundcolor": "#E5ECF6",
            "gridcolor": "white",
            "gridwidth": 2,
            "linecolor": "white",
            "showbackground": true,
            "ticks": "",
            "zerolinecolor": "white"
           },
           "zaxis": {
            "backgroundcolor": "#E5ECF6",
            "gridcolor": "white",
            "gridwidth": 2,
            "linecolor": "white",
            "showbackground": true,
            "ticks": "",
            "zerolinecolor": "white"
           }
          },
          "shapedefaults": {
           "line": {
            "color": "#2a3f5f"
           }
          },
          "ternary": {
           "aaxis": {
            "gridcolor": "white",
            "linecolor": "white",
            "ticks": ""
           },
           "baxis": {
            "gridcolor": "white",
            "linecolor": "white",
            "ticks": ""
           },
           "bgcolor": "#E5ECF6",
           "caxis": {
            "gridcolor": "white",
            "linecolor": "white",
            "ticks": ""
           }
          },
          "title": {
           "x": 0.05
          },
          "xaxis": {
           "automargin": true,
           "gridcolor": "white",
           "linecolor": "white",
           "ticks": "",
           "title": {
            "standoff": 15
           },
           "zerolinecolor": "white",
           "zerolinewidth": 2
          },
          "yaxis": {
           "automargin": true,
           "gridcolor": "white",
           "linecolor": "white",
           "ticks": "",
           "title": {
            "standoff": 15
           },
           "zerolinecolor": "white",
           "zerolinewidth": 2
          }
         }
        },
        "title": {
         "text": "Average Hourly Rates by Country"
        }
       }
      }
     },
     "metadata": {},
     "output_type": "display_data"
    }
   ],
   "source": [
    "fig = px.choropleth(\n",
    "    country_rates,\n",
    "    locations='country',\n",
    "    locationmode='country names',\n",
    "    color='average_hourly',\n",
    "    color_continuous_scale='Viridis',\n",
    "    title='Average Hourly Rates by Country'\n",
    ")\n",
    "fig.update_layout(geo=dict(showframe=False, showcoastlines=False))\n",
    "fig.show()"
   ]
  },
  {
   "cell_type": "code",
   "execution_count": 260,
   "id": "2ce45182",
   "metadata": {},
   "outputs": [],
   "source": [
    "top_countries__list = top_countries_hourly['country'].tolist()"
   ]
  },
  {
   "cell_type": "code",
   "execution_count": 261,
   "id": "805f4aeb",
   "metadata": {},
   "outputs": [
    {
     "data": {
      "text/plain": [
       "['United States',\n",
       " 'United Kingdom',\n",
       " 'Australia',\n",
       " 'Canada',\n",
       " 'India',\n",
       " 'Germany',\n",
       " 'Unknown',\n",
       " 'Netherlands',\n",
       " 'Pakistan',\n",
       " 'United Arab Emirates']"
      ]
     },
     "execution_count": 261,
     "metadata": {},
     "output_type": "execute_result"
    }
   ],
   "source": [
    "top_countries__list"
   ]
  },
  {
   "cell_type": "code",
   "execution_count": 262,
   "id": "57cdcba2",
   "metadata": {},
   "outputs": [],
   "source": [
    "avg_hourly_rates_top = country_rates[country_rates['country'].isin(top_countries__list)]"
   ]
  },
  {
   "cell_type": "code",
   "execution_count": 263,
   "id": "3f727860",
   "metadata": {},
   "outputs": [
    {
     "data": {
      "text/plain": [
       "<Axes: xlabel='country,average_hourly'>"
      ]
     },
     "execution_count": 263,
     "metadata": {},
     "output_type": "execute_result"
    },
    {
     "data": {
      "image/png": "[encoded data removed]",
      "text/plain": [
       "<Figure size 1200x600 with 1 Axes>"
      ]
     },
     "metadata": {},
     "output_type": "display_data"
    }
   ],
   "source": [
    "avg_hourly_rates_top.value_counts().plot(kind='bar',figsize=(12,6))"
   ]
  },
  {
   "cell_type": "code",
   "execution_count": 264,
   "id": "04696b37",
   "metadata": {},
   "outputs": [
    {
     "data": {
      "text/html": [
       "<div>\n",
       "<style scoped>\n",
       "    .dataframe tbody tr th:only-of-type {\n",
       "        vertical-align: middle;\n",
       "    }\n",
       "\n",
       "    .dataframe tbody tr th {\n",
       "        vertical-align: top;\n",
       "    }\n",
       "\n",
       "    .dataframe thead th {\n",
       "        text-align: right;\n",
       "    }\n",
       "</style>\n",
       "<table border=\"1\" class=\"dataframe\">\n",
       "  <thead>\n",
       "    <tr style=\"text-align: right;\">\n",
       "      <th></th>\n",
       "      <th>title</th>\n",
       "      <th>link</th>\n",
       "      <th>published_date</th>\n",
       "      <th>is_hourly</th>\n",
       "      <th>hourly_low</th>\n",
       "      <th>hourly_high</th>\n",
       "      <th>budget</th>\n",
       "      <th>country</th>\n",
       "      <th>year</th>\n",
       "      <th>month</th>\n",
       "      <th>day</th>\n",
       "      <th>time</th>\n",
       "      <th>title_clean</th>\n",
       "      <th>normalized_salary</th>\n",
       "      <th>year_month</th>\n",
       "      <th>average_hourly</th>\n",
       "    </tr>\n",
       "  </thead>\n",
       "  <tbody>\n",
       "    <tr>\n",
       "      <th>0</th>\n",
       "      <td>Experienced Media Buyer For Solar Pannel and R...</td>\n",
       "      <td>https://www.upwork.com/jobs/Experienced-Media-...</td>\n",
       "      <td>2024-02-17 09:09:54+00:00</td>\n",
       "      <td>False</td>\n",
       "      <td>NaN</td>\n",
       "      <td>NaN</td>\n",
       "      <td>500.0</td>\n",
       "      <td>Unknown</td>\n",
       "      <td>2024</td>\n",
       "      <td>2</td>\n",
       "      <td>17</td>\n",
       "      <td>09:09:54</td>\n",
       "      <td>experienced media buyer for solar pannel and r...</td>\n",
       "      <td>500.0</td>\n",
       "      <td>2024-02</td>\n",
       "      <td>NaN</td>\n",
       "    </tr>\n",
       "    <tr>\n",
       "      <th>1</th>\n",
       "      <td>Full Stack Developer</td>\n",
       "      <td>https://www.upwork.com/jobs/Full-Stack-Develop...</td>\n",
       "      <td>2024-02-17 09:09:17+00:00</td>\n",
       "      <td>False</td>\n",
       "      <td>NaN</td>\n",
       "      <td>NaN</td>\n",
       "      <td>1100.0</td>\n",
       "      <td>United States</td>\n",
       "      <td>2024</td>\n",
       "      <td>2</td>\n",
       "      <td>17</td>\n",
       "      <td>09:09:17</td>\n",
       "      <td>full stack developer</td>\n",
       "      <td>1100.0</td>\n",
       "      <td>2024-02</td>\n",
       "      <td>NaN</td>\n",
       "    </tr>\n",
       "    <tr>\n",
       "      <th>2</th>\n",
       "      <td>SMMA Bubble App</td>\n",
       "      <td>https://www.upwork.com/jobs/SMMA-Bubble-App_%7...</td>\n",
       "      <td>2024-02-17 09:08:46+00:00</td>\n",
       "      <td>True</td>\n",
       "      <td>10.0</td>\n",
       "      <td>30.0</td>\n",
       "      <td>NaN</td>\n",
       "      <td>United States</td>\n",
       "      <td>2024</td>\n",
       "      <td>2</td>\n",
       "      <td>17</td>\n",
       "      <td>09:08:46</td>\n",
       "      <td>smma bubble app</td>\n",
       "      <td>20.0</td>\n",
       "      <td>2024-02</td>\n",
       "      <td>20.0</td>\n",
       "    </tr>\n",
       "    <tr>\n",
       "      <th>4</th>\n",
       "      <td>Data Engineer</td>\n",
       "      <td>https://www.upwork.com/jobs/Data-Engineer_%7E0...</td>\n",
       "      <td>2024-02-17 09:07:42+00:00</td>\n",
       "      <td>False</td>\n",
       "      <td>NaN</td>\n",
       "      <td>NaN</td>\n",
       "      <td>650.0</td>\n",
       "      <td>India</td>\n",
       "      <td>2024</td>\n",
       "      <td>2</td>\n",
       "      <td>17</td>\n",
       "      <td>09:07:42</td>\n",
       "      <td>data engineer</td>\n",
       "      <td>650.0</td>\n",
       "      <td>2024-02</td>\n",
       "      <td>NaN</td>\n",
       "    </tr>\n",
       "    <tr>\n",
       "      <th>6</th>\n",
       "      <td>Want to fix the WordPress Plugin</td>\n",
       "      <td>https://www.upwork.com/jobs/Want-fix-the-WordP...</td>\n",
       "      <td>2024-02-17 09:07:27+00:00</td>\n",
       "      <td>False</td>\n",
       "      <td>NaN</td>\n",
       "      <td>NaN</td>\n",
       "      <td>5.0</td>\n",
       "      <td>India</td>\n",
       "      <td>2024</td>\n",
       "      <td>2</td>\n",
       "      <td>17</td>\n",
       "      <td>09:07:27</td>\n",
       "      <td>want to fix the wordpress plugin</td>\n",
       "      <td>5.0</td>\n",
       "      <td>2024-02</td>\n",
       "      <td>NaN</td>\n",
       "    </tr>\n",
       "  </tbody>\n",
       "</table>\n",
       "</div>"
      ],
      "text/plain": [
       "                                               title  \\\n",
       "0  Experienced Media Buyer For Solar Pannel and R...   \n",
       "1                               Full Stack Developer   \n",
       "2                                    SMMA Bubble App   \n",
       "4                                      Data Engineer   \n",
       "6                   Want to fix the WordPress Plugin   \n",
       "\n",
       "                                                link  \\\n",
       "0  https://www.upwork.com/jobs/Experienced-Media-...   \n",
       "1  https://www.upwork.com/jobs/Full-Stack-Develop...   \n",
       "2  https://www.upwork.com/jobs/SMMA-Bubble-App_%7...   \n",
       "4  https://www.upwork.com/jobs/Data-Engineer_%7E0...   \n",
       "6  https://www.upwork.com/jobs/Want-fix-the-WordP...   \n",
       "\n",
       "             published_date  is_hourly  hourly_low  hourly_high  budget  \\\n",
       "0 2024-02-17 09:09:54+00:00      False         NaN          NaN   500.0   \n",
       "1 2024-02-17 09:09:17+00:00      False         NaN          NaN  1100.0   \n",
       "2 2024-02-17 09:08:46+00:00       True        10.0         30.0     NaN   \n",
       "4 2024-02-17 09:07:42+00:00      False         NaN          NaN   650.0   \n",
       "6 2024-02-17 09:07:27+00:00      False         NaN          NaN     5.0   \n",
       "\n",
       "         country  year  month  day      time  \\\n",
       "0        Unknown  2024      2   17  09:09:54   \n",
       "1  United States  2024      2   17  09:09:17   \n",
       "2  United States  2024      2   17  09:08:46   \n",
       "4          India  2024      2   17  09:07:42   \n",
       "6          India  2024      2   17  09:07:27   \n",
       "\n",
       "                                         title_clean  normalized_salary  \\\n",
       "0  experienced media buyer for solar pannel and r...              500.0   \n",
       "1                               full stack developer             1100.0   \n",
       "2                                    smma bubble app               20.0   \n",
       "4                                      data engineer              650.0   \n",
       "6                   want to fix the wordpress plugin                5.0   \n",
       "\n",
       "  year_month  average_hourly  \n",
       "0    2024-02             NaN  \n",
       "1    2024-02             NaN  \n",
       "2    2024-02            20.0  \n",
       "4    2024-02             NaN  \n",
       "6    2024-02             NaN  "
      ]
     },
     "execution_count": 264,
     "metadata": {},
     "output_type": "execute_result"
    }
   ],
   "source": [
    "df_cleaned.head()"
   ]
  },
  {
   "cell_type": "code",
   "execution_count": 265,
   "id": "42c07373",
   "metadata": {},
   "outputs": [],
   "source": [
    "fixed_jobs = df_cleaned[(df_cleaned['is_hourly']== False) & (df_cleaned['budget'].notna()) & (df_cleaned['budget']>0)]"
   ]
  },
  {
   "cell_type": "code",
   "execution_count": 266,
   "id": "3e433b77",
   "metadata": {},
   "outputs": [],
   "source": [
    "avg_budgets = fixed_jobs.groupby('country')['budget'].mean()"
   ]
  },
  {
   "cell_type": "code",
   "execution_count": 268,
   "id": "d9f554cf",
   "metadata": {},
   "outputs": [],
   "source": [
    "# top 10 countries by job count in fix price\n",
    "top_countries_fix = fixed_jobs['country'].value_counts().head(10).index"
   ]
  },
  {
   "cell_type": "code",
   "execution_count": 269,
   "id": "24642783",
   "metadata": {},
   "outputs": [
    {
     "data": {
      "text/plain": [
       "Index(['United States', 'India', 'United Kingdom', 'Australia', 'Canada',\n",
       "       'Pakistan', 'Unknown', 'Germany', 'Netherlands',\n",
       "       'United Arab Emirates'],\n",
       "      dtype='object', name='country')"
      ]
     },
     "execution_count": 269,
     "metadata": {},
     "output_type": "execute_result"
    }
   ],
   "source": [
    "top_countries_fix"
   ]
  },
  {
   "cell_type": "code",
   "execution_count": 270,
   "id": "5e7a4251",
   "metadata": {},
   "outputs": [],
   "source": [
    "top_avg_budgets = avg_budgets.loc[top_countries_fix]"
   ]
  },
  {
   "cell_type": "code",
   "execution_count": 273,
   "id": "bf552031",
   "metadata": {},
   "outputs": [
    {
     "data": {
      "image/png": "[encoded data removed]",
      "text/plain": [
       "<Figure size 1200x600 with 1 Axes>"
      ]
     },
     "metadata": {},
     "output_type": "display_data"
    }
   ],
   "source": [
    "plt.figure(figsize=(12,6))\n",
    "top_avg_budgets.plot(kind='bar',color='orange')\n",
    "plt.title('Average Fixed Price Budget by country [top 10]')\n",
    "plt.ylabel('avg budget')\n",
    "plt.xlabel('country')\n",
    "plt.xticks(rotation=45)\n",
    "plt.grid(axis='y')\n",
    "plt.tight_layout()\n",
    "plt.show()\n"
   ]
  },
  {
   "cell_type": "code",
   "execution_count": null,
   "id": "1af3248a",
   "metadata": {},
   "outputs": [],
   "source": []
  }
 ],
 "metadata": {
  "kernelspec": {
   "display_name": "base",
   "language": "python",
   "name": "python3"
  },
  "language_info": {
   "codemirror_mode": {
    "name": "ipython",
    "version": 3
   },
   "file_extension": ".py",
   "mimetype": "text/x-python",
   "name": "python",
   "nbconvert_exporter": "python",
   "pygments_lexer": "ipython3",
   "version": "3.11.7"
  }
 },
 "nbformat": 4,
 "nbformat_minor": 5
}
